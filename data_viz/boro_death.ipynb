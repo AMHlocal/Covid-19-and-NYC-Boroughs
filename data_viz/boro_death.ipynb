{
 "cells": [
  {
   "cell_type": "code",
   "execution_count": 100,
   "metadata": {},
   "outputs": [],
   "source": [
    "import os\n",
    "import csv\n",
    "import pandas as pd\n",
    "import matplotlib.pyplot as plt"
   ]
  },
  {
   "cell_type": "code",
   "execution_count": 101,
   "metadata": {
    "scrolled": false
   },
   "outputs": [
    {
     "name": "stdout",
     "output_type": "stream",
     "text": [
      "                                             Borough  Manhattan      Bronx  \\\n",
      "0  Median household income (in 2018 dollars), 201...  82459.000  38085.000   \n",
      "1  Per capita income in past 12 months (in 2018 d...  72832.000  20850.000   \n",
      "2                        Persons in poverty, percent      0.156      0.273   \n",
      "\n",
      "      Queens   Brooklyn  Staten Island  New York city, New York  \n",
      "0  64987.000  56015.000      79267.000                60762.000  \n",
      "1  30289.000  31984.000      34987.000                37693.000  \n",
      "2      0.116      0.189          0.117                    0.189  \n"
     ]
    },
    {
     "data": {
      "text/html": [
       "<div>\n",
       "<style scoped>\n",
       "    .dataframe tbody tr th:only-of-type {\n",
       "        vertical-align: middle;\n",
       "    }\n",
       "\n",
       "    .dataframe tbody tr th {\n",
       "        vertical-align: top;\n",
       "    }\n",
       "\n",
       "    .dataframe thead th {\n",
       "        text-align: right;\n",
       "    }\n",
       "</style>\n",
       "<table border=\"1\" class=\"dataframe\">\n",
       "  <thead>\n",
       "    <tr style=\"text-align: right;\">\n",
       "      <th></th>\n",
       "      <th>0</th>\n",
       "      <th>1</th>\n",
       "      <th>2</th>\n",
       "    </tr>\n",
       "  </thead>\n",
       "  <tbody>\n",
       "    <tr>\n",
       "      <th>Borough</th>\n",
       "      <td>Median household income (in 2018 dollars), 201...</td>\n",
       "      <td>Per capita income in past 12 months (in 2018 d...</td>\n",
       "      <td>Persons in poverty, percent</td>\n",
       "    </tr>\n",
       "    <tr>\n",
       "      <th>Manhattan</th>\n",
       "      <td>82459</td>\n",
       "      <td>72832</td>\n",
       "      <td>0.156</td>\n",
       "    </tr>\n",
       "    <tr>\n",
       "      <th>Bronx</th>\n",
       "      <td>38085</td>\n",
       "      <td>20850</td>\n",
       "      <td>0.273</td>\n",
       "    </tr>\n",
       "    <tr>\n",
       "      <th>Queens</th>\n",
       "      <td>64987</td>\n",
       "      <td>30289</td>\n",
       "      <td>0.116</td>\n",
       "    </tr>\n",
       "    <tr>\n",
       "      <th>Brooklyn</th>\n",
       "      <td>56015</td>\n",
       "      <td>31984</td>\n",
       "      <td>0.189</td>\n",
       "    </tr>\n",
       "  </tbody>\n",
       "</table>\n",
       "</div>"
      ],
      "text/plain": [
       "                                                           0  \\\n",
       "Borough    Median household income (in 2018 dollars), 201...   \n",
       "Manhattan                                              82459   \n",
       "Bronx                                                  38085   \n",
       "Queens                                                 64987   \n",
       "Brooklyn                                               56015   \n",
       "\n",
       "                                                           1  \\\n",
       "Borough    Per capita income in past 12 months (in 2018 d...   \n",
       "Manhattan                                              72832   \n",
       "Bronx                                                  20850   \n",
       "Queens                                                 30289   \n",
       "Brooklyn                                               31984   \n",
       "\n",
       "                                     2  \n",
       "Borough    Persons in poverty, percent  \n",
       "Manhattan                        0.156  \n",
       "Bronx                            0.273  \n",
       "Queens                           0.116  \n",
       "Brooklyn                         0.189  "
      ]
     },
     "execution_count": 101,
     "metadata": {},
     "output_type": "execute_result"
    }
   ],
   "source": [
    "median = \"../Data Set/QuickFacts Aug-06-2020.xls\"\n",
    "money_stuff_df = pd.read_excel('QuickFacts Aug-06-2020.xl', index_col=0) \n",
    "#money_stuff_df = pd.read_csv(median)\n",
    "money_stuff_df.head()\n",
    "before_swap = money_stuff_df.rename(columns={\"New York County (Manhattan Borough), New York\":\"Manhattan\", \n",
    "                                             \"Bronx County (Bronx Borough), New York\":\"Bronx\", \n",
    "                                             \"Queens County (Queens Borough), New York\":\"Queens\", \n",
    "                                             \"Kings County (Brooklyn Borough), New York\":\"Brooklyn\", \n",
    "                                             \"Richmond County (Staten Island Borough), New York\": \"Staten Island\"}\n",
    "                                   )\n",
    "print(before_swap.head())\n",
    "before_swap_transposed = before_swap.T\n",
    "fix_header = before_swap_transposed.rename(columns={\n",
    "                                                    \"New York County (Manhattan Borough), New York\":\"Manhattan\", \n",
    "                                                    \"Bronx County (Bronx Borough), New York\":\"Bronx\", \n",
    "                                                    \"Queens County (Queens Borough), New York\":\"Queens\", \n",
    "                                                    \"Kings County (Brooklyn Borough), New York\":\"Brooklyn\", \n",
    "                                                    \"Richmond County (Staten Island Borough), New York\": \"Staten Island\"}\n",
    "                                   )\n",
    "fix_header.head()\n"
   ]
  },
  {
   "cell_type": "code",
   "execution_count": 103,
   "metadata": {},
   "outputs": [
    {
     "data": {
      "text/html": [
       "<div>\n",
       "<style scoped>\n",
       "    .dataframe tbody tr th:only-of-type {\n",
       "        vertical-align: middle;\n",
       "    }\n",
       "\n",
       "    .dataframe tbody tr th {\n",
       "        vertical-align: top;\n",
       "    }\n",
       "\n",
       "    .dataframe thead th {\n",
       "        text-align: right;\n",
       "    }\n",
       "</style>\n",
       "<table border=\"1\" class=\"dataframe\">\n",
       "  <thead>\n",
       "    <tr style=\"text-align: right;\">\n",
       "      <th></th>\n",
       "      <th>index</th>\n",
       "      <th>0</th>\n",
       "      <th>1</th>\n",
       "      <th>2</th>\n",
       "    </tr>\n",
       "  </thead>\n",
       "  <tbody>\n",
       "    <tr>\n",
       "      <th>0</th>\n",
       "      <td>Borough</td>\n",
       "      <td>Median household income (in 2018 dollars), 201...</td>\n",
       "      <td>Per capita income in past 12 months (in 2018 d...</td>\n",
       "      <td>Persons in poverty, percent</td>\n",
       "    </tr>\n",
       "    <tr>\n",
       "      <th>1</th>\n",
       "      <td>Manhattan</td>\n",
       "      <td>82459</td>\n",
       "      <td>72832</td>\n",
       "      <td>0.156</td>\n",
       "    </tr>\n",
       "    <tr>\n",
       "      <th>2</th>\n",
       "      <td>Bronx</td>\n",
       "      <td>38085</td>\n",
       "      <td>20850</td>\n",
       "      <td>0.273</td>\n",
       "    </tr>\n",
       "    <tr>\n",
       "      <th>3</th>\n",
       "      <td>Queens</td>\n",
       "      <td>64987</td>\n",
       "      <td>30289</td>\n",
       "      <td>0.116</td>\n",
       "    </tr>\n",
       "    <tr>\n",
       "      <th>4</th>\n",
       "      <td>Brooklyn</td>\n",
       "      <td>56015</td>\n",
       "      <td>31984</td>\n",
       "      <td>0.189</td>\n",
       "    </tr>\n",
       "    <tr>\n",
       "      <th>5</th>\n",
       "      <td>Staten Island</td>\n",
       "      <td>79267</td>\n",
       "      <td>34987</td>\n",
       "      <td>0.117</td>\n",
       "    </tr>\n",
       "    <tr>\n",
       "      <th>6</th>\n",
       "      <td>New York city, New York</td>\n",
       "      <td>60762</td>\n",
       "      <td>37693</td>\n",
       "      <td>0.189</td>\n",
       "    </tr>\n",
       "  </tbody>\n",
       "</table>\n",
       "</div>"
      ],
      "text/plain": [
       "                     index                                                  0  \\\n",
       "0                  Borough  Median household income (in 2018 dollars), 201...   \n",
       "1                Manhattan                                              82459   \n",
       "2                    Bronx                                              38085   \n",
       "3                   Queens                                              64987   \n",
       "4                 Brooklyn                                              56015   \n",
       "5            Staten Island                                              79267   \n",
       "6  New York city, New York                                              60762   \n",
       "\n",
       "                                                   1  \\\n",
       "0  Per capita income in past 12 months (in 2018 d...   \n",
       "1                                              72832   \n",
       "2                                              20850   \n",
       "3                                              30289   \n",
       "4                                              31984   \n",
       "5                                              34987   \n",
       "6                                              37693   \n",
       "\n",
       "                             2  \n",
       "0  Persons in poverty, percent  \n",
       "1                        0.156  \n",
       "2                        0.273  \n",
       "3                        0.116  \n",
       "4                        0.189  \n",
       "5                        0.117  \n",
       "6                        0.189  "
      ]
     },
     "execution_count": 103,
     "metadata": {},
     "output_type": "execute_result"
    }
   ],
   "source": [
    "fix_header.reset_index()"
   ]
  },
  {
   "cell_type": "code",
   "execution_count": 104,
   "metadata": {},
   "outputs": [
    {
     "data": {
      "text/html": [
       "<div>\n",
       "<style scoped>\n",
       "    .dataframe tbody tr th:only-of-type {\n",
       "        vertical-align: middle;\n",
       "    }\n",
       "\n",
       "    .dataframe tbody tr th {\n",
       "        vertical-align: top;\n",
       "    }\n",
       "\n",
       "    .dataframe thead th {\n",
       "        text-align: right;\n",
       "    }\n",
       "</style>\n",
       "<table border=\"1\" class=\"dataframe\">\n",
       "  <thead>\n",
       "    <tr style=\"text-align: right;\">\n",
       "      <th>Borough</th>\n",
       "      <th>Median household income (in 2018 dollars), 2014-2018</th>\n",
       "      <th>Per capita income in past 12 months (in 2018 dollars), 2014-2018</th>\n",
       "      <th>Persons in poverty, percent</th>\n",
       "    </tr>\n",
       "  </thead>\n",
       "  <tbody>\n",
       "    <tr>\n",
       "      <th>Manhattan</th>\n",
       "      <td>82459.0</td>\n",
       "      <td>72832.0</td>\n",
       "      <td>0.156</td>\n",
       "    </tr>\n",
       "    <tr>\n",
       "      <th>Bronx</th>\n",
       "      <td>38085.0</td>\n",
       "      <td>20850.0</td>\n",
       "      <td>0.273</td>\n",
       "    </tr>\n",
       "    <tr>\n",
       "      <th>Queens</th>\n",
       "      <td>64987.0</td>\n",
       "      <td>30289.0</td>\n",
       "      <td>0.116</td>\n",
       "    </tr>\n",
       "    <tr>\n",
       "      <th>Brooklyn</th>\n",
       "      <td>56015.0</td>\n",
       "      <td>31984.0</td>\n",
       "      <td>0.189</td>\n",
       "    </tr>\n",
       "    <tr>\n",
       "      <th>Staten Island</th>\n",
       "      <td>79267.0</td>\n",
       "      <td>34987.0</td>\n",
       "      <td>0.117</td>\n",
       "    </tr>\n",
       "  </tbody>\n",
       "</table>\n",
       "</div>"
      ],
      "text/plain": [
       "Borough        Median household income (in 2018 dollars), 2014-2018  \\\n",
       "Manhattan                                                82459.0      \n",
       "Bronx                                                    38085.0      \n",
       "Queens                                                   64987.0      \n",
       "Brooklyn                                                 56015.0      \n",
       "Staten Island                                            79267.0      \n",
       "\n",
       "Borough        Per capita income in past 12 months (in 2018 dollars), 2014-2018  \\\n",
       "Manhattan                                                72832.0                  \n",
       "Bronx                                                    20850.0                  \n",
       "Queens                                                   30289.0                  \n",
       "Brooklyn                                                 31984.0                  \n",
       "Staten Island                                            34987.0                  \n",
       "\n",
       "Borough        Persons in poverty, percent  \n",
       "Manhattan                            0.156  \n",
       "Bronx                                0.273  \n",
       "Queens                               0.116  \n",
       "Brooklyn                             0.189  \n",
       "Staten Island                        0.117  "
      ]
     },
     "execution_count": 104,
     "metadata": {},
     "output_type": "execute_result"
    }
   ],
   "source": [
    "new_header = fix_header.iloc[0] #grab the first row for the header\n",
    "new = fix_header[1:] #take the data less the header row\n",
    "new.columns = new_header #set the header row as the df header\n",
    "#new.head()\n",
    "new = new.astype(float).copy()\n",
    "new.head()"
   ]
  },
  {
   "cell_type": "raw",
   "metadata": {},
   "source": []
  },
  {
   "cell_type": "code",
   "execution_count": 105,
   "metadata": {},
   "outputs": [
    {
     "name": "stdout",
     "output_type": "stream",
     "text": [
      "['Median household income (in 2018 dollars), 2014-2018', 'Per capita income in past 12 months (in 2018 dollars), 2014-2018', 'Persons in poverty, percent']\n"
     ]
    }
   ],
   "source": [
    "print(list(new))"
   ]
  },
  {
   "cell_type": "code",
   "execution_count": 98,
   "metadata": {},
   "outputs": [
    {
     "data": {
      "text/html": [
       "<div>\n",
       "<style scoped>\n",
       "    .dataframe tbody tr th:only-of-type {\n",
       "        vertical-align: middle;\n",
       "    }\n",
       "\n",
       "    .dataframe tbody tr th {\n",
       "        vertical-align: top;\n",
       "    }\n",
       "\n",
       "    .dataframe thead th {\n",
       "        text-align: right;\n",
       "    }\n",
       "</style>\n",
       "<table border=\"1\" class=\"dataframe\">\n",
       "  <thead>\n",
       "    <tr style=\"text-align: right;\">\n",
       "      <th>Borough</th>\n",
       "      <th>index</th>\n",
       "      <th>Median household income (in 2018 dollars), 2014-2018</th>\n",
       "      <th>Per capita income in past 12 months (in 2018 dollars), 2014-2018</th>\n",
       "      <th>Persons in poverty, percent</th>\n",
       "    </tr>\n",
       "  </thead>\n",
       "  <tbody>\n",
       "    <tr>\n",
       "      <th>0</th>\n",
       "      <td>Manhattan</td>\n",
       "      <td>82459.0</td>\n",
       "      <td>72832.0</td>\n",
       "      <td>0.156</td>\n",
       "    </tr>\n",
       "    <tr>\n",
       "      <th>1</th>\n",
       "      <td>Bronx</td>\n",
       "      <td>38085.0</td>\n",
       "      <td>20850.0</td>\n",
       "      <td>0.273</td>\n",
       "    </tr>\n",
       "    <tr>\n",
       "      <th>2</th>\n",
       "      <td>Queens</td>\n",
       "      <td>64987.0</td>\n",
       "      <td>30289.0</td>\n",
       "      <td>0.116</td>\n",
       "    </tr>\n",
       "    <tr>\n",
       "      <th>3</th>\n",
       "      <td>Brooklyn</td>\n",
       "      <td>56015.0</td>\n",
       "      <td>31984.0</td>\n",
       "      <td>0.189</td>\n",
       "    </tr>\n",
       "    <tr>\n",
       "      <th>4</th>\n",
       "      <td>Staten Island</td>\n",
       "      <td>79267.0</td>\n",
       "      <td>34987.0</td>\n",
       "      <td>0.117</td>\n",
       "    </tr>\n",
       "  </tbody>\n",
       "</table>\n",
       "</div>"
      ],
      "text/plain": [
       "Borough          index  Median household income (in 2018 dollars), 2014-2018  \\\n",
       "0            Manhattan                                            82459.0      \n",
       "1                Bronx                                            38085.0      \n",
       "2               Queens                                            64987.0      \n",
       "3             Brooklyn                                            56015.0      \n",
       "4        Staten Island                                            79267.0      \n",
       "\n",
       "Borough  Per capita income in past 12 months (in 2018 dollars), 2014-2018  \\\n",
       "0                                                  72832.0                  \n",
       "1                                                  20850.0                  \n",
       "2                                                  30289.0                  \n",
       "3                                                  31984.0                  \n",
       "4                                                  34987.0                  \n",
       "\n",
       "Borough  Persons in poverty, percent  \n",
       "0                              0.156  \n",
       "1                              0.273  \n",
       "2                              0.116  \n",
       "3                              0.189  \n",
       "4                              0.117  "
      ]
     },
     "execution_count": 98,
     "metadata": {},
     "output_type": "execute_result"
    }
   ],
   "source": [
    "new = new.reset_index()\n",
    "#new.head()"
   ]
  },
  {
   "cell_type": "code",
   "execution_count": 99,
   "metadata": {},
   "outputs": [
    {
     "data": {
      "text/html": [
       "<div>\n",
       "<style scoped>\n",
       "    .dataframe tbody tr th:only-of-type {\n",
       "        vertical-align: middle;\n",
       "    }\n",
       "\n",
       "    .dataframe tbody tr th {\n",
       "        vertical-align: top;\n",
       "    }\n",
       "\n",
       "    .dataframe thead th {\n",
       "        text-align: right;\n",
       "    }\n",
       "</style>\n",
       "<table border=\"1\" class=\"dataframe\">\n",
       "  <thead>\n",
       "    <tr style=\"text-align: right;\">\n",
       "      <th>Borough</th>\n",
       "      <th>Borough</th>\n",
       "      <th>Median household income (in 2018 dollars), 2014-2018</th>\n",
       "      <th>Per capita income in past 12 months (in 2018 dollars), 2014-2018</th>\n",
       "      <th>Persons in poverty, percent</th>\n",
       "    </tr>\n",
       "  </thead>\n",
       "  <tbody>\n",
       "    <tr>\n",
       "      <th>0</th>\n",
       "      <td>Manhattan</td>\n",
       "      <td>82459.0</td>\n",
       "      <td>72832.0</td>\n",
       "      <td>0.156</td>\n",
       "    </tr>\n",
       "    <tr>\n",
       "      <th>1</th>\n",
       "      <td>Bronx</td>\n",
       "      <td>38085.0</td>\n",
       "      <td>20850.0</td>\n",
       "      <td>0.273</td>\n",
       "    </tr>\n",
       "    <tr>\n",
       "      <th>2</th>\n",
       "      <td>Queens</td>\n",
       "      <td>64987.0</td>\n",
       "      <td>30289.0</td>\n",
       "      <td>0.116</td>\n",
       "    </tr>\n",
       "    <tr>\n",
       "      <th>3</th>\n",
       "      <td>Brooklyn</td>\n",
       "      <td>56015.0</td>\n",
       "      <td>31984.0</td>\n",
       "      <td>0.189</td>\n",
       "    </tr>\n",
       "    <tr>\n",
       "      <th>4</th>\n",
       "      <td>Staten Island</td>\n",
       "      <td>79267.0</td>\n",
       "      <td>34987.0</td>\n",
       "      <td>0.117</td>\n",
       "    </tr>\n",
       "  </tbody>\n",
       "</table>\n",
       "</div>"
      ],
      "text/plain": [
       "Borough        Borough  Median household income (in 2018 dollars), 2014-2018  \\\n",
       "0            Manhattan                                            82459.0      \n",
       "1                Bronx                                            38085.0      \n",
       "2               Queens                                            64987.0      \n",
       "3             Brooklyn                                            56015.0      \n",
       "4        Staten Island                                            79267.0      \n",
       "\n",
       "Borough  Per capita income in past 12 months (in 2018 dollars), 2014-2018  \\\n",
       "0                                                  72832.0                  \n",
       "1                                                  20850.0                  \n",
       "2                                                  30289.0                  \n",
       "3                                                  31984.0                  \n",
       "4                                                  34987.0                  \n",
       "\n",
       "Borough  Persons in poverty, percent  \n",
       "0                              0.156  \n",
       "1                              0.273  \n",
       "2                              0.116  \n",
       "3                              0.189  \n",
       "4                              0.117  "
      ]
     },
     "execution_count": 99,
     "metadata": {},
     "output_type": "execute_result"
    }
   ],
   "source": [
    "renamed = new.rename(columns={\"Borough\":\"TEMP\",\"index\":\"Borough\"})\n",
    "renamed.head()"
   ]
  },
  {
   "cell_type": "code",
   "execution_count": 80,
   "metadata": {},
   "outputs": [],
   "source": [
    "by_boro = \"../Data Set/by-boro.csv\"\n",
    "by_boro_df = pd.read_csv(by_boro)\n",
    "by_boro_df = by_boro_df.rename(columns={\"BOROUGH_GROUP\":\"Borough\"})"
   ]
  },
  {
   "cell_type": "code",
   "execution_count": 29,
   "metadata": {},
   "outputs": [
    {
     "data": {
      "text/plain": [
       "dtype('O')"
      ]
     },
     "execution_count": 29,
     "metadata": {},
     "output_type": "execute_result"
    }
   ],
   "source": [
    "avg_income.dtypes"
   ]
  },
  {
   "cell_type": "code",
   "execution_count": 77,
   "metadata": {},
   "outputs": [
    {
     "ename": "KeyError",
     "evalue": "'Borough'",
     "output_type": "error",
     "traceback": [
      "\u001b[0;31m---------------------------------------------------------------------------\u001b[0m",
      "\u001b[0;31mKeyError\u001b[0m                                  Traceback (most recent call last)",
      "\u001b[0;32m<ipython-input-77-faa60849fc98>\u001b[0m in \u001b[0;36m<module>\u001b[0;34m\u001b[0m\n\u001b[0;32m----> 1\u001b[0;31m \u001b[0mdf_merge\u001b[0m \u001b[0;34m=\u001b[0m \u001b[0mpd\u001b[0m\u001b[0;34m.\u001b[0m\u001b[0mmerge\u001b[0m\u001b[0;34m(\u001b[0m\u001b[0mborough\u001b[0m\u001b[0;34m,\u001b[0m \u001b[0mnew\u001b[0m\u001b[0;34m,\u001b[0m \u001b[0mon\u001b[0m\u001b[0;34m=\u001b[0m\u001b[0;34m'Borough'\u001b[0m\u001b[0;34m)\u001b[0m\u001b[0;34m\u001b[0m\u001b[0;34m\u001b[0m\u001b[0m\n\u001b[0m",
      "\u001b[0;32m~/anaconda3/lib/python3.6/site-packages/pandas/core/reshape/merge.py\u001b[0m in \u001b[0;36mmerge\u001b[0;34m(left, right, how, on, left_on, right_on, left_index, right_index, sort, suffixes, copy, indicator, validate)\u001b[0m\n\u001b[1;32m     84\u001b[0m         \u001b[0mcopy\u001b[0m\u001b[0;34m=\u001b[0m\u001b[0mcopy\u001b[0m\u001b[0;34m,\u001b[0m\u001b[0;34m\u001b[0m\u001b[0;34m\u001b[0m\u001b[0m\n\u001b[1;32m     85\u001b[0m         \u001b[0mindicator\u001b[0m\u001b[0;34m=\u001b[0m\u001b[0mindicator\u001b[0m\u001b[0;34m,\u001b[0m\u001b[0;34m\u001b[0m\u001b[0;34m\u001b[0m\u001b[0m\n\u001b[0;32m---> 86\u001b[0;31m         \u001b[0mvalidate\u001b[0m\u001b[0;34m=\u001b[0m\u001b[0mvalidate\u001b[0m\u001b[0;34m,\u001b[0m\u001b[0;34m\u001b[0m\u001b[0;34m\u001b[0m\u001b[0m\n\u001b[0m\u001b[1;32m     87\u001b[0m     )\n\u001b[1;32m     88\u001b[0m     \u001b[0;32mreturn\u001b[0m \u001b[0mop\u001b[0m\u001b[0;34m.\u001b[0m\u001b[0mget_result\u001b[0m\u001b[0;34m(\u001b[0m\u001b[0;34m)\u001b[0m\u001b[0;34m\u001b[0m\u001b[0;34m\u001b[0m\u001b[0m\n",
      "\u001b[0;32m~/anaconda3/lib/python3.6/site-packages/pandas/core/reshape/merge.py\u001b[0m in \u001b[0;36m__init__\u001b[0;34m(self, left, right, how, on, left_on, right_on, axis, left_index, right_index, sort, suffixes, copy, indicator, validate)\u001b[0m\n\u001b[1;32m    625\u001b[0m             \u001b[0mself\u001b[0m\u001b[0;34m.\u001b[0m\u001b[0mright_join_keys\u001b[0m\u001b[0;34m,\u001b[0m\u001b[0;34m\u001b[0m\u001b[0;34m\u001b[0m\u001b[0m\n\u001b[1;32m    626\u001b[0m             \u001b[0mself\u001b[0m\u001b[0;34m.\u001b[0m\u001b[0mjoin_names\u001b[0m\u001b[0;34m,\u001b[0m\u001b[0;34m\u001b[0m\u001b[0;34m\u001b[0m\u001b[0m\n\u001b[0;32m--> 627\u001b[0;31m         ) = self._get_merge_keys()\n\u001b[0m\u001b[1;32m    628\u001b[0m \u001b[0;34m\u001b[0m\u001b[0m\n\u001b[1;32m    629\u001b[0m         \u001b[0;31m# validate the merge keys dtypes. We may need to coerce\u001b[0m\u001b[0;34m\u001b[0m\u001b[0;34m\u001b[0m\u001b[0;34m\u001b[0m\u001b[0m\n",
      "\u001b[0;32m~/anaconda3/lib/python3.6/site-packages/pandas/core/reshape/merge.py\u001b[0m in \u001b[0;36m_get_merge_keys\u001b[0;34m(self)\u001b[0m\n\u001b[1;32m    981\u001b[0m                     \u001b[0;32mif\u001b[0m \u001b[0;32mnot\u001b[0m \u001b[0mis_rkey\u001b[0m\u001b[0;34m(\u001b[0m\u001b[0mrk\u001b[0m\u001b[0;34m)\u001b[0m\u001b[0;34m:\u001b[0m\u001b[0;34m\u001b[0m\u001b[0;34m\u001b[0m\u001b[0m\n\u001b[1;32m    982\u001b[0m                         \u001b[0;32mif\u001b[0m \u001b[0mrk\u001b[0m \u001b[0;32mis\u001b[0m \u001b[0;32mnot\u001b[0m \u001b[0;32mNone\u001b[0m\u001b[0;34m:\u001b[0m\u001b[0;34m\u001b[0m\u001b[0;34m\u001b[0m\u001b[0m\n\u001b[0;32m--> 983\u001b[0;31m                             \u001b[0mright_keys\u001b[0m\u001b[0;34m.\u001b[0m\u001b[0mappend\u001b[0m\u001b[0;34m(\u001b[0m\u001b[0mright\u001b[0m\u001b[0;34m.\u001b[0m\u001b[0m_get_label_or_level_values\u001b[0m\u001b[0;34m(\u001b[0m\u001b[0mrk\u001b[0m\u001b[0;34m)\u001b[0m\u001b[0;34m)\u001b[0m\u001b[0;34m\u001b[0m\u001b[0;34m\u001b[0m\u001b[0m\n\u001b[0m\u001b[1;32m    984\u001b[0m                         \u001b[0;32melse\u001b[0m\u001b[0;34m:\u001b[0m\u001b[0;34m\u001b[0m\u001b[0;34m\u001b[0m\u001b[0m\n\u001b[1;32m    985\u001b[0m                             \u001b[0;31m# work-around for merge_asof(right_index=True)\u001b[0m\u001b[0;34m\u001b[0m\u001b[0;34m\u001b[0m\u001b[0;34m\u001b[0m\u001b[0m\n",
      "\u001b[0;32m~/anaconda3/lib/python3.6/site-packages/pandas/core/generic.py\u001b[0m in \u001b[0;36m_get_label_or_level_values\u001b[0;34m(self, key, axis)\u001b[0m\n\u001b[1;32m   1690\u001b[0m             \u001b[0mvalues\u001b[0m \u001b[0;34m=\u001b[0m \u001b[0mself\u001b[0m\u001b[0;34m.\u001b[0m\u001b[0maxes\u001b[0m\u001b[0;34m[\u001b[0m\u001b[0maxis\u001b[0m\u001b[0;34m]\u001b[0m\u001b[0;34m.\u001b[0m\u001b[0mget_level_values\u001b[0m\u001b[0;34m(\u001b[0m\u001b[0mkey\u001b[0m\u001b[0;34m)\u001b[0m\u001b[0;34m.\u001b[0m\u001b[0m_values\u001b[0m\u001b[0;34m\u001b[0m\u001b[0;34m\u001b[0m\u001b[0m\n\u001b[1;32m   1691\u001b[0m         \u001b[0;32melse\u001b[0m\u001b[0;34m:\u001b[0m\u001b[0;34m\u001b[0m\u001b[0;34m\u001b[0m\u001b[0m\n\u001b[0;32m-> 1692\u001b[0;31m             \u001b[0;32mraise\u001b[0m \u001b[0mKeyError\u001b[0m\u001b[0;34m(\u001b[0m\u001b[0mkey\u001b[0m\u001b[0;34m)\u001b[0m\u001b[0;34m\u001b[0m\u001b[0;34m\u001b[0m\u001b[0m\n\u001b[0m\u001b[1;32m   1693\u001b[0m \u001b[0;34m\u001b[0m\u001b[0m\n\u001b[1;32m   1694\u001b[0m         \u001b[0;31m# Check for duplicates\u001b[0m\u001b[0;34m\u001b[0m\u001b[0;34m\u001b[0m\u001b[0;34m\u001b[0m\u001b[0m\n",
      "\u001b[0;31mKeyError\u001b[0m: 'Borough'"
     ]
    }
   ],
   "source": [
    "df_merge = pd.merge(by_boro_df, new, on='Borough')"
   ]
  },
  {
   "cell_type": "code",
   "execution_count": 81,
   "metadata": {},
   "outputs": [
    {
     "name": "stdout",
     "output_type": "stream",
     "text": [
      "['Borough', 'CASE_RATE', 'HOSPITALIZED_RATE', 'DEATH_RATE', 'CASE_COUNT', 'HOSPITALIZED_COUNT', 'DEATH_COUNT']\n"
     ]
    }
   ],
   "source": [
    "print(list(by_boro_df))"
   ]
  },
  {
   "cell_type": "code",
   "execution_count": 97,
   "metadata": {},
   "outputs": [
    {
     "name": "stdout",
     "output_type": "stream",
     "text": [
      "['Median household income (in 2018 dollars), 2014-2018', 'Per capita income in past 12 months (in 2018 dollars), 2014-2018', 'Persons in poverty, percent']\n"
     ]
    }
   ],
   "source": [
    "print(list(new))"
   ]
  },
  {
   "cell_type": "code",
   "execution_count": null,
   "metadata": {},
   "outputs": [],
   "source": []
  }
 ],
 "metadata": {
  "kernelspec": {
   "display_name": "Python 3",
   "language": "python",
   "name": "python3"
  },
  "language_info": {
   "codemirror_mode": {
    "name": "ipython",
    "version": 3
   },
   "file_extension": ".py",
   "mimetype": "text/x-python",
   "name": "python",
   "nbconvert_exporter": "python",
   "pygments_lexer": "ipython3",
   "version": "3.6.10"
  }
 },
 "nbformat": 4,
 "nbformat_minor": 4
}
