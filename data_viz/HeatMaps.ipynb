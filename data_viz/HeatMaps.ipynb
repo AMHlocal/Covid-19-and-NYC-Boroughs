{
 "cells": [
  {
   "cell_type": "code",
   "execution_count": 1,
   "metadata": {},
   "outputs": [],
   "source": [
    "#dependices\n",
    "import os\n",
    "import csv\n",
    "import pandas as pd\n",
    "import gmaps\n",
    "from api_keys import g_key"
   ]
  },
  {
   "cell_type": "code",
   "execution_count": 2,
   "metadata": {},
   "outputs": [
    {
     "data": {
      "text/html": [
       "<div>\n",
       "<style scoped>\n",
       "    .dataframe tbody tr th:only-of-type {\n",
       "        vertical-align: middle;\n",
       "    }\n",
       "\n",
       "    .dataframe tbody tr th {\n",
       "        vertical-align: top;\n",
       "    }\n",
       "\n",
       "    .dataframe thead th {\n",
       "        text-align: right;\n",
       "    }\n",
       "</style>\n",
       "<table border=\"1\" class=\"dataframe\">\n",
       "  <thead>\n",
       "    <tr style=\"text-align: right;\">\n",
       "      <th></th>\n",
       "      <th>Borough</th>\n",
       "      <th>case_rate</th>\n",
       "      <th>hospitalized_rate</th>\n",
       "      <th>death_rate</th>\n",
       "      <th>case_count</th>\n",
       "      <th>hospitalized_count</th>\n",
       "      <th>death_count</th>\n",
       "      <th>Year</th>\n",
       "      <th>Average Household Income</th>\n",
       "      <th>Lat</th>\n",
       "      <th>Lng</th>\n",
       "    </tr>\n",
       "  </thead>\n",
       "  <tbody>\n",
       "    <tr>\n",
       "      <th>0</th>\n",
       "      <td>Bronx</td>\n",
       "      <td>3494.37</td>\n",
       "      <td>883.30</td>\n",
       "      <td>274.70</td>\n",
       "      <td>50044</td>\n",
       "      <td>12650</td>\n",
       "      <td>3934</td>\n",
       "      <td>2018</td>\n",
       "      <td>38467.0</td>\n",
       "      <td>40.8448</td>\n",
       "      <td>-73.8648</td>\n",
       "    </tr>\n",
       "    <tr>\n",
       "      <th>1</th>\n",
       "      <td>Brooklyn</td>\n",
       "      <td>2403.26</td>\n",
       "      <td>612.78</td>\n",
       "      <td>217.78</td>\n",
       "      <td>62072</td>\n",
       "      <td>15827</td>\n",
       "      <td>5625</td>\n",
       "      <td>2018</td>\n",
       "      <td>61220.0</td>\n",
       "      <td>40.6782</td>\n",
       "      <td>-73.9442</td>\n",
       "    </tr>\n",
       "    <tr>\n",
       "      <th>2</th>\n",
       "      <td>Manhattan</td>\n",
       "      <td>1772.15</td>\n",
       "      <td>502.24</td>\n",
       "      <td>153.99</td>\n",
       "      <td>28863</td>\n",
       "      <td>8180</td>\n",
       "      <td>2508</td>\n",
       "      <td>2018</td>\n",
       "      <td>85066.0</td>\n",
       "      <td>40.7831</td>\n",
       "      <td>-73.9712</td>\n",
       "    </tr>\n",
       "    <tr>\n",
       "      <th>3</th>\n",
       "      <td>Queens</td>\n",
       "      <td>2970.68</td>\n",
       "      <td>760.41</td>\n",
       "      <td>261.57</td>\n",
       "      <td>67699</td>\n",
       "      <td>17329</td>\n",
       "      <td>5961</td>\n",
       "      <td>2018</td>\n",
       "      <td>69320.0</td>\n",
       "      <td>40.7282</td>\n",
       "      <td>-73.7949</td>\n",
       "    </tr>\n",
       "    <tr>\n",
       "      <th>4</th>\n",
       "      <td>Staten Island</td>\n",
       "      <td>3078.04</td>\n",
       "      <td>507.37</td>\n",
       "      <td>188.16</td>\n",
       "      <td>14657</td>\n",
       "      <td>2416</td>\n",
       "      <td>896</td>\n",
       "      <td>2018</td>\n",
       "      <td>82166.0</td>\n",
       "      <td>40.5795</td>\n",
       "      <td>-74.1502</td>\n",
       "    </tr>\n",
       "  </tbody>\n",
       "</table>\n",
       "</div>"
      ],
      "text/plain": [
       "         Borough  case_rate  hospitalized_rate  death_rate  case_count  \\\n",
       "0          Bronx    3494.37             883.30      274.70       50044   \n",
       "1       Brooklyn    2403.26             612.78      217.78       62072   \n",
       "2      Manhattan    1772.15             502.24      153.99       28863   \n",
       "3         Queens    2970.68             760.41      261.57       67699   \n",
       "4  Staten Island    3078.04             507.37      188.16       14657   \n",
       "\n",
       "   hospitalized_count  death_count  Year  Average Household Income      Lat  \\\n",
       "0               12650         3934  2018                   38467.0  40.8448   \n",
       "1               15827         5625  2018                   61220.0  40.6782   \n",
       "2                8180         2508  2018                   85066.0  40.7831   \n",
       "3               17329         5961  2018                   69320.0  40.7282   \n",
       "4                2416          896  2018                   82166.0  40.5795   \n",
       "\n",
       "       Lng  \n",
       "0 -73.8648  \n",
       "1 -73.9442  \n",
       "2 -73.9712  \n",
       "3 -73.7949  \n",
       "4 -74.1502  "
      ]
     },
     "execution_count": 2,
     "metadata": {},
     "output_type": "execute_result"
    }
   ],
   "source": [
    "#read csv in\n",
    "df = \"../data_set/lat_merge.csv\"\n",
    "#show DF to make a=sure it imported\n",
    "lat_merge = pd.read_csv(df)\n",
    "lat_merge.head()"
   ]
  },
  {
   "cell_type": "code",
   "execution_count": 3,
   "metadata": {},
   "outputs": [],
   "source": [
    "#create heatmap of concentration of cases within boroughs\n",
    "#configure gmaps\n",
    "gmaps.configure(api_key=g_key)\n",
    "\n",
    "#store lat/lng locations in a variable\n",
    "locations = lat_merge[[\"Lat\",\"Lng\"]]\n",
    "\n",
    "#store total cases in a variable\n",
    "cases = lat_merge[\"case_count\"]\n",
    "death = lat_merge[\"death_count\"]"
   ]
  },
  {
   "cell_type": "code",
   "execution_count": 4,
   "metadata": {},
   "outputs": [
    {
     "data": {
      "application/vnd.jupyter.widget-view+json": {
       "model_id": "0f3daa212be442d7858aafd3ce648878",
       "version_major": 2,
       "version_minor": 0
      },
      "text/plain": [
       "Figure(layout=FigureLayout(height='420px'))"
      ]
     },
     "metadata": {},
     "output_type": "display_data"
    }
   ],
   "source": [
    "#create heatmap layer of cases by borough\n",
    "fig = gmaps.figure()\n",
    "heat_layer = gmaps.heatmap_layer(locations, weights=cases, dissipating=False, max_intensity=70000, point_radius=0.08)\n",
    "fig.add_layer(heat_layer)\n",
    "fig"
   ]
  },
  {
   "cell_type": "code",
   "execution_count": null,
   "metadata": {},
   "outputs": [],
   "source": []
  },
  {
   "cell_type": "code",
   "execution_count": 5,
   "metadata": {},
   "outputs": [
    {
     "data": {
      "application/vnd.jupyter.widget-view+json": {
       "model_id": "0e14373a520a4daeb32a20f5405c48ea",
       "version_major": 2,
       "version_minor": 0
      },
      "text/plain": [
       "Figure(layout=FigureLayout(height='420px'))"
      ]
     },
     "metadata": {},
     "output_type": "display_data"
    }
   ],
   "source": [
    "#create heatmap layer of deaths by borough\n",
    "fig = gmaps.figure()\n",
    "heat_layer = gmaps.heatmap_layer(locations, weights=death, dissipating=False, max_intensity=6000, point_radius=0.08)\n",
    "fig.add_layer(heat_layer)\n",
    "fig"
   ]
  },
  {
   "cell_type": "code",
   "execution_count": null,
   "metadata": {},
   "outputs": [],
   "source": []
  },
  {
   "cell_type": "code",
   "execution_count": null,
   "metadata": {},
   "outputs": [],
   "source": []
  }
 ],
 "metadata": {
  "kernelspec": {
   "display_name": "Python 3",
   "language": "python",
   "name": "python3"
  },
  "language_info": {
   "codemirror_mode": {
    "name": "ipython",
    "version": 3
   },
   "file_extension": ".py",
   "mimetype": "text/x-python",
   "name": "python",
   "nbconvert_exporter": "python",
   "pygments_lexer": "ipython3",
   "version": "3.6.10"
  }
 },
 "nbformat": 4,
 "nbformat_minor": 4
}
