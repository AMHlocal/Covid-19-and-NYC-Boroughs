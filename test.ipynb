
{
 "cells": [
  {
   "cell_type": "code",
<<<<<<< HEAD
   "execution_count": null,
=======
   "execution_count": 8,
>>>>>>> master
   "metadata": {},
   "outputs": [],
   "source": [
    "import os\n",
    "import csv\n",
    "import pandas as pd\n",
<<<<<<< HEAD
    "import numpy as np"
=======
    "import numpy as np\n",
    "#import regex as re\n",
    "%matplotlib notebook"
>>>>>>> aed047ec544daf329cb7198173d2ade7d71adc68
   ]
  },
  {
   "cell_type": "code",
<<<<<<< HEAD
   "execution_count": null,
   "metadata": {},
   "outputs": [],
=======
   "execution_count": 9,
   "metadata": {},
   "outputs": [
    {
     "data": {
      "text/html": [
       "<div>\n",
       "<style scoped>\n",
       "    .dataframe tbody tr th:only-of-type {\n",
       "        vertical-align: middle;\n",
       "    }\n",
       "\n",
       "    .dataframe tbody tr th {\n",
       "        vertical-align: top;\n",
       "    }\n",
       "\n",
       "    .dataframe thead th {\n",
       "        text-align: right;\n",
       "    }\n",
       "</style>\n",
       "<table border=\"1\" class=\"dataframe\">\n",
       "  <thead>\n",
       "    <tr style=\"text-align: right;\">\n",
       "      <th></th>\n",
       "      <th>ZIP</th>\n",
       "      <th>Neighborhood</th>\n",
       "      <th>Borough</th>\n",
       "      <th>Cases</th>\n",
       "      <th>Cases per 100,000</th>\n",
       "      <th>Deaths per 100,000</th>\n",
       "      <th>Percent positive&lt;br&gt;(of people tested)</th>\n",
       "    </tr>\n",
       "  </thead>\n",
       "  <tbody>\n",
       "    <tr>\n",
       "      <th>0</th>\n",
       "      <td>10001</td>\n",
       "      <td>Chelsea/NoMad/West Chelsea</td>\n",
       "      <td>Manhattan</td>\n",
       "      <td>420</td>\n",
       "      <td>1782.45</td>\n",
       "      <td>106.10</td>\n",
       "      <td>6.95</td>\n",
       "    </tr>\n",
       "    <tr>\n",
       "      <th>1</th>\n",
       "      <td>10002</td>\n",
       "      <td>Chinatown/Lower East Side</td>\n",
       "      <td>Manhattan</td>\n",
       "      <td>1237</td>\n",
       "      <td>1611.61</td>\n",
       "      <td>208.45</td>\n",
       "      <td>10.00</td>\n",
       "    </tr>\n",
       "    <tr>\n",
       "      <th>2</th>\n",
       "      <td>10003</td>\n",
       "      <td>East Village/Gramercy/Greenwich Village</td>\n",
       "      <td>Manhattan</td>\n",
       "      <td>516</td>\n",
       "      <td>959.08</td>\n",
       "      <td>63.20</td>\n",
       "      <td>5.39</td>\n",
       "    </tr>\n",
       "    <tr>\n",
       "      <th>3</th>\n",
       "      <td>10004</td>\n",
       "      <td>Financial District</td>\n",
       "      <td>Manhattan</td>\n",
       "      <td>39</td>\n",
       "      <td>1068.32</td>\n",
       "      <td>27.39</td>\n",
       "      <td>6.04</td>\n",
       "    </tr>\n",
       "    <tr>\n",
       "      <th>4</th>\n",
       "      <td>10005</td>\n",
       "      <td>Financial District</td>\n",
       "      <td>Manhattan</td>\n",
       "      <td>81</td>\n",
       "      <td>964.73</td>\n",
       "      <td>23.82</td>\n",
       "      <td>5.31</td>\n",
       "    </tr>\n",
       "  </tbody>\n",
       "</table>\n",
       "</div>"
      ],
      "text/plain": [
       "     ZIP                             Neighborhood    Borough  Cases  \\\n",
       "0  10001               Chelsea/NoMad/West Chelsea  Manhattan    420   \n",
       "1  10002                Chinatown/Lower East Side  Manhattan   1237   \n",
       "2  10003  East Village/Gramercy/Greenwich Village  Manhattan    516   \n",
       "3  10004                       Financial District  Manhattan     39   \n",
       "4  10005                       Financial District  Manhattan     81   \n",
       "\n",
       "   Cases per 100,000  Deaths per 100,000  \\\n",
       "0            1782.45              106.10   \n",
       "1            1611.61              208.45   \n",
       "2             959.08               63.20   \n",
       "3            1068.32               27.39   \n",
       "4             964.73               23.82   \n",
       "\n",
       "   Percent positive<br>(of people tested)  \n",
       "0                                    6.95  \n",
       "1                                   10.00  \n",
       "2                                    5.39  \n",
       "3                                    6.04  \n",
       "4                                    5.31  "
      ]
     },
     "execution_count": 9,
     "metadata": {},
     "output_type": "execute_result"
    }
   ],
>>>>>>> master
   "source": [
    "zip_code = \"data_set/zip_code.csv\"\n",
    "zip_code_df = pd.read_csv(zip_code)\n",
    "zip_code_df.head()"
   ]
  },
  {
   "cell_type": "code",
<<<<<<< HEAD
   "execution_count": null,
   "metadata": {},
   "outputs": [],
=======
   "execution_count": 10,
   "metadata": {},
   "outputs": [
    {
     "data": {
      "text/html": [
       "<div>\n",
       "<style scoped>\n",
       "    .dataframe tbody tr th:only-of-type {\n",
       "        vertical-align: middle;\n",
       "    }\n",
       "\n",
       "    .dataframe tbody tr th {\n",
       "        vertical-align: top;\n",
       "    }\n",
       "\n",
       "    .dataframe thead th {\n",
       "        text-align: right;\n",
       "    }\n",
       "</style>\n",
       "<table border=\"1\" class=\"dataframe\">\n",
       "  <thead>\n",
       "    <tr style=\"text-align: right;\">\n",
       "      <th></th>\n",
       "      <th>Location</th>\n",
       "      <th>Household Type</th>\n",
       "      <th>TimeFrame</th>\n",
       "      <th>DataFormat</th>\n",
       "      <th>Data</th>\n",
       "      <th>Fips</th>\n",
       "    </tr>\n",
       "  </thead>\n",
       "  <tbody>\n",
       "    <tr>\n",
       "      <th>0</th>\n",
       "      <td>Riverdale</td>\n",
       "      <td>All Households</td>\n",
       "      <td>2005</td>\n",
       "      <td>Dollars</td>\n",
       "      <td>$60,686.22</td>\n",
       "      <td>208</td>\n",
       "    </tr>\n",
       "    <tr>\n",
       "      <th>1</th>\n",
       "      <td>Williamsbridge</td>\n",
       "      <td>All Households</td>\n",
       "      <td>2005</td>\n",
       "      <td>Dollars</td>\n",
       "      <td>$49,881.99</td>\n",
       "      <td>212</td>\n",
       "    </tr>\n",
       "    <tr>\n",
       "      <th>2</th>\n",
       "      <td>Throgs Neck</td>\n",
       "      <td>All Households</td>\n",
       "      <td>2005</td>\n",
       "      <td>Dollars</td>\n",
       "      <td>$55,211.29</td>\n",
       "      <td>210</td>\n",
       "    </tr>\n",
       "    <tr>\n",
       "      <th>3</th>\n",
       "      <td>Pelham Parkway</td>\n",
       "      <td>All Households</td>\n",
       "      <td>2005</td>\n",
       "      <td>Dollars</td>\n",
       "      <td>$50,494.64</td>\n",
       "      <td>211</td>\n",
       "    </tr>\n",
       "    <tr>\n",
       "      <th>4</th>\n",
       "      <td>Morrisania</td>\n",
       "      <td>All Households</td>\n",
       "      <td>2005</td>\n",
       "      <td>Dollars</td>\n",
       "      <td>$23,524.24</td>\n",
       "      <td>203</td>\n",
       "    </tr>\n",
       "  </tbody>\n",
       "</table>\n",
       "</div>"
      ],
      "text/plain": [
       "         Location  Household Type  TimeFrame DataFormat          Data  Fips\n",
       "0       Riverdale  All Households       2005    Dollars   $60,686.22    208\n",
       "1  Williamsbridge  All Households       2005    Dollars   $49,881.99    212\n",
       "2     Throgs Neck  All Households       2005    Dollars   $55,211.29    210\n",
       "3  Pelham Parkway  All Households       2005    Dollars   $50,494.64    211\n",
       "4      Morrisania  All Households       2005    Dollars   $23,524.24    203"
      ]
     },
     "execution_count": 10,
     "metadata": {},
     "output_type": "execute_result"
    }
   ],
>>>>>>> master
   "source": [
    "median = \"Data Set/median_incomes.csv\"\n",
    "median_income_df = pd.read_csv(median, quoting=csv.QUOTE_MINIMAL, skipinitialspace=True, )\n",
    "median_income_df.head()"
   ]
  },
  {
   "cell_type": "code",
<<<<<<< HEAD
   "execution_count": null,
   "metadata": {},
   "outputs": [],
=======
   "execution_count": 11,
   "metadata": {},
   "outputs": [
    {
     "data": {
      "text/plain": [
       "Location          object\n",
       "Household Type    object\n",
       "TimeFrame          int64\n",
       "DataFormat        object\n",
       "Data              object\n",
       "Fips               int64\n",
       "dtype: object"
      ]
     },
     "execution_count": 11,
     "metadata": {},
     "output_type": "execute_result"
    }
   ],
>>>>>>> master
   "source": [
    "median_income_df.dtypes"
   ]
  },
  {
   "cell_type": "code",
<<<<<<< HEAD
   "execution_count": null,
=======
   "execution_count": 12,
>>>>>>> master
   "metadata": {},
   "outputs": [],
   "source": [
    "household = median_income_df.loc[(median_income_df['Household Type'] == 'All Households')]\n"
   ]
  },
  {
   "cell_type": "code",
<<<<<<< HEAD
   "execution_count": null,
   "metadata": {},
   "outputs": [],
=======
   "execution_count": 13,
   "metadata": {},
   "outputs": [
    {
     "data": {
      "text/html": [
       "<div>\n",
       "<style scoped>\n",
       "    .dataframe tbody tr th:only-of-type {\n",
       "        vertical-align: middle;\n",
       "    }\n",
       "\n",
       "    .dataframe tbody tr th {\n",
       "        vertical-align: top;\n",
       "    }\n",
       "\n",
       "    .dataframe thead th {\n",
       "        text-align: right;\n",
       "    }\n",
       "</style>\n",
       "<table border=\"1\" class=\"dataframe\">\n",
       "  <thead>\n",
       "    <tr style=\"text-align: right;\">\n",
       "      <th></th>\n",
       "      <th>Location</th>\n",
       "      <th>Household Type</th>\n",
       "      <th>TimeFrame</th>\n",
       "      <th>DataFormat</th>\n",
       "      <th>Data</th>\n",
       "      <th>Fips</th>\n",
       "    </tr>\n",
       "  </thead>\n",
       "  <tbody>\n",
       "    <tr>\n",
       "      <th>3440</th>\n",
       "      <td>Brooklyn</td>\n",
       "      <td>All Households</td>\n",
       "      <td>2018</td>\n",
       "      <td>Dollars</td>\n",
       "      <td>$61,220.00</td>\n",
       "      <td>36047</td>\n",
       "    </tr>\n",
       "    <tr>\n",
       "      <th>3441</th>\n",
       "      <td>Manhattan</td>\n",
       "      <td>All Households</td>\n",
       "      <td>2018</td>\n",
       "      <td>Dollars</td>\n",
       "      <td>$85,066.00</td>\n",
       "      <td>36061</td>\n",
       "    </tr>\n",
       "    <tr>\n",
       "      <th>3442</th>\n",
       "      <td>Queens</td>\n",
       "      <td>All Households</td>\n",
       "      <td>2018</td>\n",
       "      <td>Dollars</td>\n",
       "      <td>$69,320.00</td>\n",
       "      <td>36081</td>\n",
       "    </tr>\n",
       "    <tr>\n",
       "      <th>3443</th>\n",
       "      <td>Staten Island</td>\n",
       "      <td>All Households</td>\n",
       "      <td>2018</td>\n",
       "      <td>Dollars</td>\n",
       "      <td>$82,166.00</td>\n",
       "      <td>36085</td>\n",
       "    </tr>\n",
       "    <tr>\n",
       "      <th>3444</th>\n",
       "      <td>New York City</td>\n",
       "      <td>All Households</td>\n",
       "      <td>2018</td>\n",
       "      <td>Dollars</td>\n",
       "      <td>$63,799.00</td>\n",
       "      <td>3651000</td>\n",
       "    </tr>\n",
       "  </tbody>\n",
       "</table>\n",
       "</div>"
      ],
      "text/plain": [
       "           Location  Household Type  TimeFrame DataFormat          Data  \\\n",
       "3440       Brooklyn  All Households       2018    Dollars   $61,220.00    \n",
       "3441      Manhattan  All Households       2018    Dollars   $85,066.00    \n",
       "3442         Queens  All Households       2018    Dollars   $69,320.00    \n",
       "3443  Staten Island  All Households       2018    Dollars   $82,166.00    \n",
       "3444  New York City  All Households       2018    Dollars   $63,799.00    \n",
       "\n",
       "         Fips  \n",
       "3440    36047  \n",
       "3441    36061  \n",
       "3442    36081  \n",
       "3443    36085  \n",
       "3444  3651000  "
      ]
     },
     "execution_count": 13,
     "metadata": {},
     "output_type": "execute_result"
    }
   ],
>>>>>>> master
   "source": [
    "time = household.loc[(household[\"TimeFrame\"] == 2018)]\n",
    "time.tail()"
   ]
  },
  {
   "cell_type": "code",
<<<<<<< HEAD
   "execution_count": null,
=======
   "execution_count": 16,
>>>>>>> master
   "metadata": {},
   "outputs": [
    {
     "data": {
      "text/html": [
       "<div>\n",
       "<style scoped>\n",
       "    .dataframe tbody tr th:only-of-type {\n",
       "        vertical-align: middle;\n",
       "    }\n",
       "\n",
       "    .dataframe tbody tr th {\n",
       "        vertical-align: top;\n",
       "    }\n",
       "\n",
       "    .dataframe thead th {\n",
       "        text-align: right;\n",
       "    }\n",
       "</style>\n",
       "<table border=\"1\" class=\"dataframe\">\n",
       "  <thead>\n",
       "    <tr style=\"text-align: right;\">\n",
       "      <th></th>\n",
       "      <th>Location</th>\n",
       "      <th>Household Type</th>\n",
       "      <th>TimeFrame</th>\n",
       "      <th>DataFormat</th>\n",
       "      <th>Data</th>\n",
       "      <th>Fips</th>\n",
       "    </tr>\n",
       "  </thead>\n",
       "  <tbody>\n",
       "    <tr>\n",
       "      <th>3380</th>\n",
       "      <td>Battery Park/Tribeca</td>\n",
       "      <td>All Households</td>\n",
       "      <td>2018</td>\n",
       "      <td>Dollars</td>\n",
       "      <td>$148,152.00</td>\n",
       "      <td>101</td>\n",
       "    </tr>\n",
       "    <tr>\n",
       "      <th>3381</th>\n",
       "      <td>Greenwich Village</td>\n",
       "      <td>All Households</td>\n",
       "      <td>2018</td>\n",
       "      <td>Dollars</td>\n",
       "      <td>$148,152.00</td>\n",
       "      <td>102</td>\n",
       "    </tr>\n",
       "    <tr>\n",
       "      <th>3382</th>\n",
       "      <td>Lower East Side</td>\n",
       "      <td>All Households</td>\n",
       "      <td>2018</td>\n",
       "      <td>Dollars</td>\n",
       "      <td>$48,376.00</td>\n",
       "      <td>103</td>\n",
       "    </tr>\n",
       "    <tr>\n",
       "      <th>3383</th>\n",
       "      <td>Chelsea/Clinton</td>\n",
       "      <td>All Households</td>\n",
       "      <td>2018</td>\n",
       "      <td>Dollars</td>\n",
       "      <td>$101,080.00</td>\n",
       "      <td>104</td>\n",
       "    </tr>\n",
       "    <tr>\n",
       "      <th>3384</th>\n",
       "      <td>Midtown Business District</td>\n",
       "      <td>All Households</td>\n",
       "      <td>2018</td>\n",
       "      <td>Dollars</td>\n",
       "      <td>$101,080.00</td>\n",
       "      <td>105</td>\n",
       "    </tr>\n",
       "    <tr>\n",
       "      <th>...</th>\n",
       "      <td>...</td>\n",
       "      <td>...</td>\n",
       "      <td>...</td>\n",
       "      <td>...</td>\n",
       "      <td>...</td>\n",
       "      <td>...</td>\n",
       "    </tr>\n",
       "    <tr>\n",
       "      <th>3439</th>\n",
       "      <td>Bronx</td>\n",
       "      <td>All Households</td>\n",
       "      <td>2018</td>\n",
       "      <td>Dollars</td>\n",
       "      <td>$38,467.00</td>\n",
       "      <td>36005</td>\n",
       "    </tr>\n",
       "    <tr>\n",
       "      <th>3440</th>\n",
       "      <td>Brooklyn</td>\n",
       "      <td>All Households</td>\n",
       "      <td>2018</td>\n",
       "      <td>Dollars</td>\n",
       "      <td>$61,220.00</td>\n",
       "      <td>36047</td>\n",
       "    </tr>\n",
       "    <tr>\n",
       "      <th>3441</th>\n",
       "      <td>Manhattan</td>\n",
       "      <td>All Households</td>\n",
       "      <td>2018</td>\n",
       "      <td>Dollars</td>\n",
       "      <td>$85,066.00</td>\n",
       "      <td>36061</td>\n",
       "    </tr>\n",
       "    <tr>\n",
       "      <th>3442</th>\n",
       "      <td>Queens</td>\n",
       "      <td>All Households</td>\n",
       "      <td>2018</td>\n",
       "      <td>Dollars</td>\n",
       "      <td>$69,320.00</td>\n",
       "      <td>36081</td>\n",
       "    </tr>\n",
       "    <tr>\n",
       "      <th>3443</th>\n",
       "      <td>Staten Island</td>\n",
       "      <td>All Households</td>\n",
       "      <td>2018</td>\n",
       "      <td>Dollars</td>\n",
       "      <td>$82,166.00</td>\n",
       "      <td>36085</td>\n",
       "    </tr>\n",
       "  </tbody>\n",
       "</table>\n",
       "<p>64 rows × 6 columns</p>\n",
       "</div>"
      ],
      "text/plain": [
       "                       Location  Household Type  TimeFrame DataFormat  \\\n",
       "3380       Battery Park/Tribeca  All Households       2018    Dollars   \n",
       "3381          Greenwich Village  All Households       2018    Dollars   \n",
       "3382            Lower East Side  All Households       2018    Dollars   \n",
       "3383            Chelsea/Clinton  All Households       2018    Dollars   \n",
       "3384  Midtown Business District  All Households       2018    Dollars   \n",
       "...                         ...             ...        ...        ...   \n",
       "3439                      Bronx  All Households       2018    Dollars   \n",
       "3440                   Brooklyn  All Households       2018    Dollars   \n",
       "3441                  Manhattan  All Households       2018    Dollars   \n",
       "3442                     Queens  All Households       2018    Dollars   \n",
       "3443              Staten Island  All Households       2018    Dollars   \n",
       "\n",
       "               Data   Fips  \n",
       "3380   $148,152.00     101  \n",
       "3381   $148,152.00     102  \n",
       "3382    $48,376.00     103  \n",
       "3383   $101,080.00     104  \n",
       "3384   $101,080.00     105  \n",
       "...             ...    ...  \n",
       "3439    $38,467.00   36005  \n",
       "3440    $61,220.00   36047  \n",
       "3441    $85,066.00   36061  \n",
       "3442    $69,320.00   36081  \n",
       "3443    $82,166.00   36085  \n",
       "\n",
       "[64 rows x 6 columns]"
      ]
     },
     "execution_count": 16,
     "metadata": {},
     "output_type": "execute_result"
    }
   ],
   "source": [
<<<<<<< HEAD
    "#boroughs = time.loc[time[\"Location\"].str.contains('Bronx', 'Manhattan' )]\n",
    "# boroughs\n",
    "boroughs = time.tail(6)\n",
=======
    "boroughs = time.loc[~time[\"Location\"].str.contains('New York City')]\n",
>>>>>>> master
    "boroughs"
   ]
  },
  {
   "cell_type": "code",
<<<<<<< HEAD
   "execution_count": null,
   "metadata": {},
   "outputs": [],
=======
   "execution_count": 17,
   "metadata": {},
   "outputs": [
    {
     "data": {
      "text/html": [
       "<div>\n",
       "<style scoped>\n",
       "    .dataframe tbody tr th:only-of-type {\n",
       "        vertical-align: middle;\n",
       "    }\n",
       "\n",
       "    .dataframe tbody tr th {\n",
       "        vertical-align: top;\n",
       "    }\n",
       "\n",
       "    .dataframe thead th {\n",
       "        text-align: right;\n",
       "    }\n",
       "</style>\n",
       "<table border=\"1\" class=\"dataframe\">\n",
       "  <thead>\n",
       "    <tr style=\"text-align: right;\">\n",
       "      <th></th>\n",
       "      <th>Borough</th>\n",
       "      <th>average_household_income</th>\n",
       "    </tr>\n",
       "  </thead>\n",
       "  <tbody>\n",
       "    <tr>\n",
       "      <th>3380</th>\n",
       "      <td>Battery Park/Tribeca</td>\n",
       "      <td>$148,152.00</td>\n",
       "    </tr>\n",
       "    <tr>\n",
       "      <th>3381</th>\n",
       "      <td>Greenwich Village</td>\n",
       "      <td>$148,152.00</td>\n",
       "    </tr>\n",
       "    <tr>\n",
       "      <th>3382</th>\n",
       "      <td>Lower East Side</td>\n",
       "      <td>$48,376.00</td>\n",
       "    </tr>\n",
       "    <tr>\n",
       "      <th>3383</th>\n",
       "      <td>Chelsea/Clinton</td>\n",
       "      <td>$101,080.00</td>\n",
       "    </tr>\n",
       "    <tr>\n",
       "      <th>3384</th>\n",
       "      <td>Midtown Business District</td>\n",
       "      <td>$101,080.00</td>\n",
       "    </tr>\n",
       "    <tr>\n",
       "      <th>...</th>\n",
       "      <td>...</td>\n",
       "      <td>...</td>\n",
       "    </tr>\n",
       "    <tr>\n",
       "      <th>3439</th>\n",
       "      <td>Bronx</td>\n",
       "      <td>$38,467.00</td>\n",
       "    </tr>\n",
       "    <tr>\n",
       "      <th>3440</th>\n",
       "      <td>Brooklyn</td>\n",
       "      <td>$61,220.00</td>\n",
       "    </tr>\n",
       "    <tr>\n",
       "      <th>3441</th>\n",
       "      <td>Manhattan</td>\n",
       "      <td>$85,066.00</td>\n",
       "    </tr>\n",
       "    <tr>\n",
       "      <th>3442</th>\n",
       "      <td>Queens</td>\n",
       "      <td>$69,320.00</td>\n",
       "    </tr>\n",
       "    <tr>\n",
       "      <th>3443</th>\n",
       "      <td>Staten Island</td>\n",
       "      <td>$82,166.00</td>\n",
       "    </tr>\n",
       "  </tbody>\n",
       "</table>\n",
       "<p>64 rows × 2 columns</p>\n",
       "</div>"
      ],
      "text/plain": [
       "                        Borough average_household_income\n",
       "3380       Battery Park/Tribeca             $148,152.00 \n",
       "3381          Greenwich Village             $148,152.00 \n",
       "3382            Lower East Side              $48,376.00 \n",
       "3383            Chelsea/Clinton             $101,080.00 \n",
       "3384  Midtown Business District             $101,080.00 \n",
       "...                         ...                      ...\n",
       "3439                      Bronx              $38,467.00 \n",
       "3440                   Brooklyn              $61,220.00 \n",
       "3441                  Manhattan              $85,066.00 \n",
       "3442                     Queens              $69,320.00 \n",
       "3443              Staten Island              $82,166.00 \n",
       "\n",
       "[64 rows x 2 columns]"
      ]
     },
     "execution_count": 17,
     "metadata": {},
     "output_type": "execute_result"
    }
   ],
>>>>>>> master
   "source": [
    "borough = boroughs.drop(['Household Type', 'DataFormat', 'TimeFrame', 'Fips'], axis=1)\n",
    "\n",
    "borough.columns = [\"Borough\", \"average_household_income\"]\n",
    "borough"
   ]
  },
  {
   "cell_type": "code",
<<<<<<< HEAD
   "execution_count": null,
   "metadata": {},
   "outputs": [],
=======
   "execution_count": 18,
   "metadata": {},
   "outputs": [
    {
     "data": {
      "text/html": [
       "<div>\n",
       "<style scoped>\n",
       "    .dataframe tbody tr th:only-of-type {\n",
       "        vertical-align: middle;\n",
       "    }\n",
       "\n",
       "    .dataframe tbody tr th {\n",
       "        vertical-align: top;\n",
       "    }\n",
       "\n",
       "    .dataframe thead th {\n",
       "        text-align: right;\n",
       "    }\n",
       "</style>\n",
       "<table border=\"1\" class=\"dataframe\">\n",
       "  <thead>\n",
       "    <tr style=\"text-align: right;\">\n",
       "      <th></th>\n",
       "      <th>Borough</th>\n",
       "      <th>average_household_income</th>\n",
       "    </tr>\n",
       "  </thead>\n",
       "  <tbody>\n",
       "    <tr>\n",
       "      <th>3380</th>\n",
       "      <td>Battery Park/Tribeca</td>\n",
       "      <td>148152.00</td>\n",
       "    </tr>\n",
       "    <tr>\n",
       "      <th>3381</th>\n",
       "      <td>Greenwich Village</td>\n",
       "      <td>148152.00</td>\n",
       "    </tr>\n",
       "    <tr>\n",
       "      <th>3382</th>\n",
       "      <td>Lower East Side</td>\n",
       "      <td>48376.00</td>\n",
<<<<<<< HEAD
=======
       "    </tr>\n",
       "    <tr>\n",
       "      <th>3383</th>\n",
       "      <td>Chelsea/Clinton</td>\n",
       "      <td>101080.00</td>\n",
       "    </tr>\n",
       "    <tr>\n",
       "      <th>3384</th>\n",
       "      <td>Midtown Business District</td>\n",
       "      <td>101080.00</td>\n",
       "    </tr>\n",
       "  </tbody>\n",
       "</table>\n",
       "</div>"
      ],
      "text/plain": [
       "                        Borough average_household_income\n",
       "3380       Battery Park/Tribeca               148152.00 \n",
       "3381          Greenwich Village               148152.00 \n",
       "3382            Lower East Side                48376.00 \n",
       "3383            Chelsea/Clinton               101080.00 \n",
       "3384  Midtown Business District               101080.00 "
      ]
     },
     "execution_count": 18,
     "metadata": {},
     "output_type": "execute_result"
    }
   ],
>>>>>>> master
   "source": [
    "spec_chars = [\",\", \"$\"]\n",
    "\n",
    "\n",
    "for char in spec_chars:\n",
    "    borough['average_household_income'] = borough['average_household_income'].str.replace(char,'')\n",
    "\n",
    "borough.head()"
   ]
  },
  {
   "cell_type": "code",
<<<<<<< HEAD
   "execution_count": null,
=======
   "execution_count": 19,
>>>>>>> master
   "metadata": {},
   "outputs": [],
   "source": [
    "borough['average_household_income'] = borough['average_household_income'].str.split().str.join(\"\")"
   ]
  },
  {
   "cell_type": "code",
<<<<<<< HEAD
   "execution_count": null,
   "metadata": {},
   "outputs": [],
=======
   "execution_count": 20,
   "metadata": {},
   "outputs": [
    {
     "data": {
      "text/html": [
       "<div>\n",
       "<style scoped>\n",
       "    .dataframe tbody tr th:only-of-type {\n",
       "        vertical-align: middle;\n",
       "    }\n",
       "\n",
       "    .dataframe tbody tr th {\n",
       "        vertical-align: top;\n",
       "    }\n",
       "\n",
       "    .dataframe thead th {\n",
       "        text-align: right;\n",
       "    }\n",
       "</style>\n",
       "<table border=\"1\" class=\"dataframe\">\n",
       "  <thead>\n",
       "    <tr style=\"text-align: right;\">\n",
       "      <th></th>\n",
       "      <th>Borough</th>\n",
       "      <th>average_household_income</th>\n",
       "    </tr>\n",
       "  </thead>\n",
       "  <tbody>\n",
       "    <tr>\n",
       "      <th>3380</th>\n",
       "      <td>Battery Park/Tribeca</td>\n",
       "      <td>148152.00</td>\n",
       "    </tr>\n",
       "    <tr>\n",
       "      <th>3381</th>\n",
       "      <td>Greenwich Village</td>\n",
       "      <td>148152.00</td>\n",
       "    </tr>\n",
       "    <tr>\n",
       "      <th>3382</th>\n",
       "      <td>Lower East Side</td>\n",
       "      <td>48376.00</td>\n",
       "    </tr>\n",
       "    <tr>\n",
       "      <th>3383</th>\n",
       "      <td>Chelsea/Clinton</td>\n",
       "      <td>101080.00</td>\n",
       "    </tr>\n",
       "    <tr>\n",
       "      <th>3384</th>\n",
       "      <td>Midtown Business District</td>\n",
       "      <td>101080.00</td>\n",
       "    </tr>\n",
       "  </tbody>\n",
       "</table>\n",
       "</div>"
      ],
      "text/plain": [
       "                        Borough average_household_income\n",
       "3380       Battery Park/Tribeca                148152.00\n",
       "3381          Greenwich Village                148152.00\n",
       "3382            Lower East Side                 48376.00\n",
       "3383            Chelsea/Clinton                101080.00\n",
       "3384  Midtown Business District                101080.00"
      ]
     },
     "execution_count": 20,
     "metadata": {},
     "output_type": "execute_result"
    }
   ],
>>>>>>> master
   "source": [
    "borough.head()"
   ]
  },
  {
   "cell_type": "code",
   "execution_count": 21,
   "metadata": {},
   "outputs": [],
   "source": [
    "# median_income_df['Data'] =  median_income_df['Data'].astype(float)\n",
    "# median_income_df"
   ]
  },
  {
   "cell_type": "code",
<<<<<<< HEAD
   "execution_count": null,
=======
   "execution_count": 22,
>>>>>>> master
   "metadata": {},
   "outputs": [],
   "source": [
    "borough['average_household_income'] = borough['average_household_income'].astype(float)"
   ]
  },
  {
   "cell_type": "code",
<<<<<<< HEAD
   "execution_count": null,
   "metadata": {},
   "outputs": [],
=======
   "execution_count": 23,
   "metadata": {},
   "outputs": [
    {
     "data": {
      "text/plain": [
       "Borough                      object\n",
       "average_household_income    float64\n",
       "dtype: object"
      ]
     },
     "execution_count": 23,
     "metadata": {},
     "output_type": "execute_result"
    }
   ],
>>>>>>> master
   "source": [
    "borough.dtypes"
   ]
  },
  {
   "cell_type": "code",
<<<<<<< HEAD
   "execution_count": null,
   "metadata": {},
   "outputs": [],
   "source": [
    "borough = borough.head()\n",
    "borough"
   ]
  },
  {
   "cell_type": "code",
   "execution_count": null,
   "metadata": {},
   "outputs": [],
   "source": [
    "#borough.loc "
   ]
  },
  {
   "cell_type": "code",
   "execution_count": null,
   "metadata": {},
   "outputs": [],
   "source": [
    "#borough.head()\n",
    "borough.dtypes"
=======
   "execution_count": 24,
   "metadata": {},
   "outputs": [
    {
     "data": {
      "text/html": [
       "<div>\n",
       "<style scoped>\n",
       "    .dataframe tbody tr th:only-of-type {\n",
       "        vertical-align: middle;\n",
       "    }\n",
       "\n",
       "    .dataframe tbody tr th {\n",
       "        vertical-align: top;\n",
       "    }\n",
       "\n",
       "    .dataframe thead th {\n",
       "        text-align: right;\n",
       "    }\n",
       "</style>\n",
       "<table border=\"1\" class=\"dataframe\">\n",
       "  <thead>\n",
       "    <tr style=\"text-align: right;\">\n",
       "      <th></th>\n",
       "      <th>Borough</th>\n",
       "      <th>average_household_income</th>\n",
       "    </tr>\n",
       "  </thead>\n",
       "  <tbody>\n",
       "    <tr>\n",
       "      <th>0</th>\n",
       "      <td>Battery Park/Tribeca</td>\n",
       "      <td>148152.0</td>\n",
       "    </tr>\n",
       "    <tr>\n",
       "      <th>1</th>\n",
       "      <td>Greenwich Village</td>\n",
       "      <td>148152.0</td>\n",
       "    </tr>\n",
       "    <tr>\n",
       "      <th>2</th>\n",
       "      <td>Lower East Side</td>\n",
       "      <td>48376.0</td>\n",
       "    </tr>\n",
       "    <tr>\n",
       "      <th>3</th>\n",
       "      <td>Chelsea/Clinton</td>\n",
       "      <td>101080.0</td>\n",
       "    </tr>\n",
       "    <tr>\n",
       "      <th>4</th>\n",
       "      <td>Midtown Business District</td>\n",
       "      <td>101080.0</td>\n",
       "    </tr>\n",
       "    <tr>\n",
       "      <th>...</th>\n",
       "      <td>...</td>\n",
       "      <td>...</td>\n",
       "    </tr>\n",
       "    <tr>\n",
       "      <th>59</th>\n",
       "      <td>Bronx</td>\n",
       "      <td>38467.0</td>\n",
       "    </tr>\n",
       "    <tr>\n",
       "      <th>60</th>\n",
       "      <td>Brooklyn</td>\n",
       "      <td>61220.0</td>\n",
       "    </tr>\n",
       "    <tr>\n",
       "      <th>61</th>\n",
       "      <td>Manhattan</td>\n",
       "      <td>85066.0</td>\n",
       "    </tr>\n",
       "    <tr>\n",
       "      <th>62</th>\n",
       "      <td>Queens</td>\n",
       "      <td>69320.0</td>\n",
       "    </tr>\n",
       "    <tr>\n",
       "      <th>63</th>\n",
       "      <td>Staten Island</td>\n",
       "      <td>82166.0</td>\n",
       "    </tr>\n",
       "  </tbody>\n",
       "</table>\n",
       "<p>64 rows × 2 columns</p>\n",
       "</div>"
      ],
      "text/plain": [
       "                      Borough  average_household_income\n",
       "0        Battery Park/Tribeca                  148152.0\n",
       "1           Greenwich Village                  148152.0\n",
       "2             Lower East Side                   48376.0\n",
       "3             Chelsea/Clinton                  101080.0\n",
       "4   Midtown Business District                  101080.0\n",
       "..                        ...                       ...\n",
       "59                      Bronx                   38467.0\n",
       "60                   Brooklyn                   61220.0\n",
       "61                  Manhattan                   85066.0\n",
       "62                     Queens                   69320.0\n",
       "63              Staten Island                   82166.0\n",
       "\n",
       "[64 rows x 2 columns]"
      ]
     },
     "execution_count": 24,
     "metadata": {},
     "output_type": "execute_result"
    }
   ],
   "source": [
    "borough.reset_index(inplace = True, drop = True)\n",
    "borough"
>>>>>>> master
   ]
  },
  {
   "cell_type": "code",
   "execution_count": 25,
   "metadata": {},
   "outputs": [
    {
     "data": {
      "text/html": [
       "<div>\n",
       "<style scoped>\n",
       "    .dataframe tbody tr th:only-of-type {\n",
       "        vertical-align: middle;\n",
       "    }\n",
       "\n",
       "    .dataframe tbody tr th {\n",
       "        vertical-align: top;\n",
       "    }\n",
       "\n",
       "    .dataframe thead th {\n",
       "        text-align: right;\n",
       "    }\n",
       "</style>\n",
       "<table border=\"1\" class=\"dataframe\">\n",
       "  <thead>\n",
       "    <tr style=\"text-align: right;\">\n",
       "      <th></th>\n",
       "      <th>Borough</th>\n",
       "      <th>average_household_income</th>\n",
       "    </tr>\n",
       "  </thead>\n",
       "  <tbody>\n",
       "    <tr>\n",
       "      <th>59</th>\n",
       "      <td>Bronx</td>\n",
       "      <td>38467.0</td>\n",
       "    </tr>\n",
       "    <tr>\n",
       "      <th>60</th>\n",
       "      <td>Brooklyn</td>\n",
       "      <td>61220.0</td>\n",
       "    </tr>\n",
       "    <tr>\n",
       "      <th>61</th>\n",
       "      <td>Manhattan</td>\n",
       "      <td>85066.0</td>\n",
       "    </tr>\n",
       "    <tr>\n",
       "      <th>62</th>\n",
       "      <td>Queens</td>\n",
       "      <td>69320.0</td>\n",
       "    </tr>\n",
       "    <tr>\n",
       "      <th>63</th>\n",
       "      <td>Staten Island</td>\n",
       "      <td>82166.0</td>\n",
       "    </tr>\n",
       "  </tbody>\n",
       "</table>\n",
       "</div>"
      ],
      "text/plain": [
       "          Borough  average_household_income\n",
       "59          Bronx                   38467.0\n",
       "60       Brooklyn                   61220.0\n",
       "61      Manhattan                   85066.0\n",
       "62         Queens                   69320.0\n",
       "63  Staten Island                   82166.0"
      ]
     },
     "execution_count": 25,
     "metadata": {},
     "output_type": "execute_result"
    }
   ],
   "source": [
    "final_borough = borough.drop(borough.index[0:59])\n",
    "final_borough"
   ]
  },
  {
   "cell_type": "code",
   "execution_count": null,
   "metadata": {},
   "outputs": [],
   "source": []
  }
 ],
 "metadata": {
  "kernelspec": {
   "display_name": "Python 3",
   "language": "python",
   "name": "python3"
  },
  "language_info": {
   "codemirror_mode": {
    "name": "ipython",
    "version": 3
   },
   "file_extension": ".py",
   "mimetype": "text/x-python",
   "name": "python",
   "nbconvert_exporter": "python",
   "pygments_lexer": "ipython3",
   "version": "3.6.10"
  }
 },
 "nbformat": 4,
 "nbformat_minor": 4
}
||||||| ddb21dd
=======
||||||| merged common ancestors
<<<<<<<<< Temporary merge branch 1
{
 "cells": [
  {
   "cell_type": "code",
   "execution_count": 1,
   "metadata": {},
   "outputs": [],
   "source": [
    "import os\n",
    "import csv\n",
    "import pandas as pd\n",
    "import numpy as np\n",
    "import regex as re"
   ]
  },
  {
   "cell_type": "code",
   "execution_count": 2,
   "metadata": {},
   "outputs": [
    {
     "data": {
      "text/html": [
       "<div>\n",
       "<style scoped>\n",
       "    .dataframe tbody tr th:only-of-type {\n",
       "        vertical-align: middle;\n",
       "    }\n",
       "\n",
       "    .dataframe tbody tr th {\n",
       "        vertical-align: top;\n",
       "    }\n",
       "\n",
       "    .dataframe thead th {\n",
       "        text-align: right;\n",
       "    }\n",
       "</style>\n",
       "<table border=\"1\" class=\"dataframe\">\n",
       "  <thead>\n",
       "    <tr style=\"text-align: right;\">\n",
       "      <th></th>\n",
       "      <th>ZIP</th>\n",
       "      <th>Neighborhood</th>\n",
       "      <th>Borough</th>\n",
       "      <th>Cases</th>\n",
       "      <th>Cases per 100,000</th>\n",
       "      <th>Deaths per 100,000</th>\n",
       "      <th>Percent positive&lt;br&gt;(of people tested)</th>\n",
       "    </tr>\n",
       "  </thead>\n",
       "  <tbody>\n",
       "    <tr>\n",
       "      <th>0</th>\n",
       "      <td>10001</td>\n",
       "      <td>Chelsea/NoMad/West Chelsea</td>\n",
       "      <td>Manhattan</td>\n",
       "      <td>420</td>\n",
       "      <td>1782.45</td>\n",
       "      <td>106.10</td>\n",
       "      <td>6.95</td>\n",
       "    </tr>\n",
       "    <tr>\n",
       "      <th>1</th>\n",
       "      <td>10002</td>\n",
       "      <td>Chinatown/Lower East Side</td>\n",
       "      <td>Manhattan</td>\n",
       "      <td>1237</td>\n",
       "      <td>1611.61</td>\n",
       "      <td>208.45</td>\n",
       "      <td>10.00</td>\n",
       "    </tr>\n",
       "    <tr>\n",
       "      <th>2</th>\n",
       "      <td>10003</td>\n",
       "      <td>East Village/Gramercy/Greenwich Village</td>\n",
       "      <td>Manhattan</td>\n",
       "      <td>516</td>\n",
       "      <td>959.08</td>\n",
       "      <td>63.20</td>\n",
       "      <td>5.39</td>\n",
       "    </tr>\n",
       "    <tr>\n",
       "      <th>3</th>\n",
       "      <td>10004</td>\n",
       "      <td>Financial District</td>\n",
       "      <td>Manhattan</td>\n",
       "      <td>39</td>\n",
       "      <td>1068.32</td>\n",
       "      <td>27.39</td>\n",
       "      <td>6.04</td>\n",
       "    </tr>\n",
       "    <tr>\n",
       "      <th>4</th>\n",
       "      <td>10005</td>\n",
       "      <td>Financial District</td>\n",
       "      <td>Manhattan</td>\n",
       "      <td>81</td>\n",
       "      <td>964.73</td>\n",
       "      <td>23.82</td>\n",
       "      <td>5.31</td>\n",
       "    </tr>\n",
       "  </tbody>\n",
       "</table>\n",
       "</div>"
      ],
      "text/plain": [
       "     ZIP                             Neighborhood    Borough  Cases  \\\n",
       "0  10001               Chelsea/NoMad/West Chelsea  Manhattan    420   \n",
       "1  10002                Chinatown/Lower East Side  Manhattan   1237   \n",
       "2  10003  East Village/Gramercy/Greenwich Village  Manhattan    516   \n",
       "3  10004                       Financial District  Manhattan     39   \n",
       "4  10005                       Financial District  Manhattan     81   \n",
       "\n",
       "   Cases per 100,000  Deaths per 100,000  \\\n",
       "0            1782.45              106.10   \n",
       "1            1611.61              208.45   \n",
       "2             959.08               63.20   \n",
       "3            1068.32               27.39   \n",
       "4             964.73               23.82   \n",
       "\n",
       "   Percent positive<br>(of people tested)  \n",
       "0                                    6.95  \n",
       "1                                   10.00  \n",
       "2                                    5.39  \n",
       "3                                    6.04  \n",
       "4                                    5.31  "
      ]
     },
     "execution_count": 2,
     "metadata": {},
     "output_type": "execute_result"
    }
   ],
   "source": [
    "zip_code = \"Data Set/zip_code.csv\"\n",
    "zip_code_df = pd.read_csv(zip_code)\n",
    "zip_code_df.head()"
   ]
  },
  {
   "cell_type": "code",
   "execution_count": 3,
   "metadata": {},
   "outputs": [
    {
     "data": {
      "text/html": [
       "<div>\n",
       "<style scoped>\n",
       "    .dataframe tbody tr th:only-of-type {\n",
       "        vertical-align: middle;\n",
       "    }\n",
       "\n",
       "    .dataframe tbody tr th {\n",
       "        vertical-align: top;\n",
       "    }\n",
       "\n",
       "    .dataframe thead th {\n",
       "        text-align: right;\n",
       "    }\n",
       "</style>\n",
       "<table border=\"1\" class=\"dataframe\">\n",
       "  <thead>\n",
       "    <tr style=\"text-align: right;\">\n",
       "      <th></th>\n",
       "      <th>Location</th>\n",
       "      <th>Household Type</th>\n",
       "      <th>TimeFrame</th>\n",
       "      <th>DataFormat</th>\n",
       "      <th>Data</th>\n",
       "      <th>Fips</th>\n",
       "    </tr>\n",
       "  </thead>\n",
       "  <tbody>\n",
       "    <tr>\n",
       "      <th>0</th>\n",
       "      <td>Riverdale</td>\n",
       "      <td>All Households</td>\n",
       "      <td>2005</td>\n",
       "      <td>Dollars</td>\n",
       "      <td>$60,686.22</td>\n",
       "      <td>208</td>\n",
       "    </tr>\n",
       "    <tr>\n",
       "      <th>1</th>\n",
       "      <td>Williamsbridge</td>\n",
       "      <td>All Households</td>\n",
       "      <td>2005</td>\n",
       "      <td>Dollars</td>\n",
       "      <td>$49,881.99</td>\n",
       "      <td>212</td>\n",
       "    </tr>\n",
       "    <tr>\n",
       "      <th>2</th>\n",
       "      <td>Throgs Neck</td>\n",
       "      <td>All Households</td>\n",
       "      <td>2005</td>\n",
       "      <td>Dollars</td>\n",
       "      <td>$55,211.29</td>\n",
       "      <td>210</td>\n",
       "    </tr>\n",
       "    <tr>\n",
       "      <th>3</th>\n",
       "      <td>Pelham Parkway</td>\n",
       "      <td>All Households</td>\n",
       "      <td>2005</td>\n",
       "      <td>Dollars</td>\n",
       "      <td>$50,494.64</td>\n",
       "      <td>211</td>\n",
       "    </tr>\n",
       "    <tr>\n",
       "      <th>4</th>\n",
       "      <td>Morrisania</td>\n",
       "      <td>All Households</td>\n",
       "      <td>2005</td>\n",
       "      <td>Dollars</td>\n",
       "      <td>$23,524.24</td>\n",
       "      <td>203</td>\n",
       "    </tr>\n",
       "  </tbody>\n",
       "</table>\n",
       "</div>"
      ],
      "text/plain": [
       "         Location  Household Type  TimeFrame DataFormat         Data   Fips\n",
       "0       Riverdale  All Households       2005    Dollars   $60,686.22    208\n",
       "1  Williamsbridge  All Households       2005    Dollars   $49,881.99    212\n",
       "2     Throgs Neck  All Households       2005    Dollars   $55,211.29    210\n",
       "3  Pelham Parkway  All Households       2005    Dollars   $50,494.64    211\n",
       "4      Morrisania  All Households       2005    Dollars   $23,524.24    203"
      ]
     },
     "execution_count": 3,
     "metadata": {},
     "output_type": "execute_result"
    }
   ],
   "source": [
    "median = \"Data Set/median_incomes.csv\"\n",
    "median_income_df = pd.read_csv(median, quoting=csv.QUOTE_MINIMAL, skipinitialspace=True, )\n",
    "median_income_df.head()"
   ]
  },
  {
   "cell_type": "code",
   "execution_count": 4,
   "metadata": {},
   "outputs": [
    {
     "data": {
      "text/plain": [
       "Location          object\n",
       "Household Type    object\n",
       "TimeFrame          int64\n",
       "DataFormat        object\n",
       "Data              object\n",
       "Fips               int64\n",
       "dtype: object"
      ]
     },
     "execution_count": 4,
     "metadata": {},
     "output_type": "execute_result"
    }
   ],
   "source": [
    "median_income_df.dtypes"
   ]
  },
  {
   "cell_type": "code",
   "execution_count": 11,
   "metadata": {},
   "outputs": [],
   "source": [
    "household = median_income_df.loc[(median_income_df['Household Type'] == 'All Households')]\n"
   ]
  },
  {
   "cell_type": "code",
   "execution_count": 12,
   "metadata": {},
   "outputs": [
    {
     "data": {
      "text/html": [
       "<div>\n",
       "<style scoped>\n",
       "    .dataframe tbody tr th:only-of-type {\n",
       "        vertical-align: middle;\n",
       "    }\n",
       "\n",
       "    .dataframe tbody tr th {\n",
       "        vertical-align: top;\n",
       "    }\n",
       "\n",
       "    .dataframe thead th {\n",
       "        text-align: right;\n",
       "    }\n",
       "</style>\n",
       "<table border=\"1\" class=\"dataframe\">\n",
       "  <thead>\n",
       "    <tr style=\"text-align: right;\">\n",
       "      <th></th>\n",
       "      <th>Location</th>\n",
       "      <th>Household Type</th>\n",
       "      <th>TimeFrame</th>\n",
       "      <th>DataFormat</th>\n",
       "      <th>Data</th>\n",
       "      <th>Fips</th>\n",
       "    </tr>\n",
       "  </thead>\n",
       "  <tbody>\n",
       "    <tr>\n",
       "      <th>3440</th>\n",
       "      <td>Brooklyn</td>\n",
       "      <td>All Households</td>\n",
       "      <td>2018</td>\n",
       "      <td>Dollars</td>\n",
       "      <td>$61,220.00</td>\n",
       "      <td>36047</td>\n",
       "    </tr>\n",
       "    <tr>\n",
       "      <th>3441</th>\n",
       "      <td>Manhattan</td>\n",
       "      <td>All Households</td>\n",
       "      <td>2018</td>\n",
       "      <td>Dollars</td>\n",
       "      <td>$85,066.00</td>\n",
       "      <td>36061</td>\n",
       "    </tr>\n",
       "    <tr>\n",
       "      <th>3442</th>\n",
       "      <td>Queens</td>\n",
       "      <td>All Households</td>\n",
       "      <td>2018</td>\n",
       "      <td>Dollars</td>\n",
       "      <td>$69,320.00</td>\n",
       "      <td>36081</td>\n",
       "    </tr>\n",
       "    <tr>\n",
       "      <th>3443</th>\n",
       "      <td>Staten Island</td>\n",
       "      <td>All Households</td>\n",
       "      <td>2018</td>\n",
       "      <td>Dollars</td>\n",
       "      <td>$82,166.00</td>\n",
       "      <td>36085</td>\n",
       "    </tr>\n",
       "    <tr>\n",
       "      <th>3444</th>\n",
       "      <td>New York City</td>\n",
       "      <td>All Households</td>\n",
       "      <td>2018</td>\n",
       "      <td>Dollars</td>\n",
       "      <td>$63,799.00</td>\n",
       "      <td>3651000</td>\n",
       "    </tr>\n",
       "  </tbody>\n",
       "</table>\n",
       "</div>"
      ],
      "text/plain": [
       "           Location  Household Type  TimeFrame DataFormat         Data   \\\n",
       "3440       Brooklyn  All Households       2018    Dollars   $61,220.00    \n",
       "3441      Manhattan  All Households       2018    Dollars   $85,066.00    \n",
       "3442         Queens  All Households       2018    Dollars   $69,320.00    \n",
       "3443  Staten Island  All Households       2018    Dollars   $82,166.00    \n",
       "3444  New York City  All Households       2018    Dollars   $63,799.00    \n",
       "\n",
       "         Fips  \n",
       "3440    36047  \n",
       "3441    36061  \n",
       "3442    36081  \n",
       "3443    36085  \n",
       "3444  3651000  "
      ]
     },
     "execution_count": 12,
     "metadata": {},
     "output_type": "execute_result"
    }
   ],
   "source": [
    "time = household.loc[(household[\"TimeFrame\"] == 2018)]\n",
    "time.tail()"
   ]
  },
  {
   "cell_type": "code",
   "execution_count": 17,
   "metadata": {},
   "outputs": [],
   "source": [
    "boroughs = time.loc[time[\"Location\"].str.contains('Bronx', '' )]\n",
    "# boroughs"
   ]
  },
  {
   "cell_type": "code",
   "execution_count": 24,
   "metadata": {},
   "outputs": [
    {
     "data": {
      "text/html": [
       "<div>\n",
       "<style scoped>\n",
       "    .dataframe tbody tr th:only-of-type {\n",
       "        vertical-align: middle;\n",
       "    }\n",
       "\n",
       "    .dataframe tbody tr th {\n",
       "        vertical-align: top;\n",
       "    }\n",
       "\n",
       "    .dataframe thead th {\n",
       "        text-align: right;\n",
       "    }\n",
       "</style>\n",
       "<table border=\"1\" class=\"dataframe\">\n",
       "  <thead>\n",
       "    <tr style=\"text-align: right;\">\n",
       "      <th></th>\n",
       "      <th>Borough</th>\n",
       "      <th>average_household_income</th>\n",
       "    </tr>\n",
       "  </thead>\n",
       "  <tbody>\n",
       "    <tr>\n",
       "      <th>3380</th>\n",
       "      <td>Battery Park/Tribeca</td>\n",
       "      <td>$148,152.00</td>\n",
       "    </tr>\n",
       "    <tr>\n",
       "      <th>3381</th>\n",
       "      <td>Greenwich Village</td>\n",
       "      <td>$148,152.00</td>\n",
       "    </tr>\n",
       "    <tr>\n",
       "      <th>3382</th>\n",
       "      <td>Lower East Side</td>\n",
       "      <td>$48,376.00</td>\n",
       "    </tr>\n",
       "    <tr>\n",
       "      <th>3383</th>\n",
       "      <td>Chelsea/Clinton</td>\n",
       "      <td>$101,080.00</td>\n",
       "    </tr>\n",
       "    <tr>\n",
       "      <th>3384</th>\n",
       "      <td>Midtown Business District</td>\n",
       "      <td>$101,080.00</td>\n",
       "    </tr>\n",
       "    <tr>\n",
       "      <th>...</th>\n",
       "      <td>...</td>\n",
       "      <td>...</td>\n",
       "    </tr>\n",
       "    <tr>\n",
       "      <th>3439</th>\n",
       "      <td>Bronx</td>\n",
       "      <td>$38,467.00</td>\n",
       "    </tr>\n",
       "    <tr>\n",
       "      <th>3440</th>\n",
       "      <td>Brooklyn</td>\n",
       "      <td>$61,220.00</td>\n",
       "    </tr>\n",
       "    <tr>\n",
       "      <th>3441</th>\n",
       "      <td>Manhattan</td>\n",
       "      <td>$85,066.00</td>\n",
       "    </tr>\n",
       "    <tr>\n",
       "      <th>3442</th>\n",
       "      <td>Queens</td>\n",
       "      <td>$69,320.00</td>\n",
       "    </tr>\n",
       "    <tr>\n",
       "      <th>3443</th>\n",
       "      <td>Staten Island</td>\n",
       "      <td>$82,166.00</td>\n",
       "    </tr>\n",
       "  </tbody>\n",
       "</table>\n",
       "<p>64 rows × 2 columns</p>\n",
       "</div>"
      ],
      "text/plain": [
       "                        Borough average_household_income\n",
       "3380       Battery Park/Tribeca             $148,152.00 \n",
       "3381          Greenwich Village             $148,152.00 \n",
       "3382            Lower East Side              $48,376.00 \n",
       "3383            Chelsea/Clinton             $101,080.00 \n",
       "3384  Midtown Business District             $101,080.00 \n",
       "...                         ...                      ...\n",
       "3439                      Bronx              $38,467.00 \n",
       "3440                   Brooklyn              $61,220.00 \n",
       "3441                  Manhattan              $85,066.00 \n",
       "3442                     Queens              $69,320.00 \n",
       "3443              Staten Island              $82,166.00 \n",
       "\n",
       "[64 rows x 2 columns]"
      ]
     },
     "execution_count": 24,
     "metadata": {},
     "output_type": "execute_result"
    }
   ],
   "source": [
    "borough = boroughs.drop(['Household Type', 'DataFormat', 'TimeFrame', 'Fips'], axis=1)\n",
    "\n",
    "borough.columns = [\"Borough\", \"average_household_income\"]\n",
    "borough"
   ]
  },
  {
   "cell_type": "code",
   "execution_count": 27,
   "metadata": {},
   "outputs": [
    {
     "data": {
      "text/html": [
       "<div>\n",
       "<style scoped>\n",
       "    .dataframe tbody tr th:only-of-type {\n",
       "        vertical-align: middle;\n",
       "    }\n",
       "\n",
       "    .dataframe tbody tr th {\n",
       "        vertical-align: top;\n",
       "    }\n",
       "\n",
       "    .dataframe thead th {\n",
       "        text-align: right;\n",
       "    }\n",
       "</style>\n",
       "<table border=\"1\" class=\"dataframe\">\n",
       "  <thead>\n",
       "    <tr style=\"text-align: right;\">\n",
       "      <th></th>\n",
       "      <th>Borough</th>\n",
       "      <th>average_household_income</th>\n",
       "    </tr>\n",
       "  </thead>\n",
       "  <tbody>\n",
       "    <tr>\n",
       "      <th>3380</th>\n",
       "      <td>Battery Park/Tribeca</td>\n",
       "      <td>148 152.00</td>\n",
       "    </tr>\n",
       "    <tr>\n",
       "      <th>3381</th>\n",
       "      <td>Greenwich Village</td>\n",
       "      <td>148 152.00</td>\n",
       "    </tr>\n",
       "    <tr>\n",
       "      <th>3382</th>\n",
       "      <td>Lower East Side</td>\n",
       "      <td>48 376.00</td>\n",
>>>>>>> aed047ec544daf329cb7198173d2ade7d71adc68
       "    </tr>\n",
       "    <tr>\n",
       "      <th>3383</th>\n",
       "      <td>Chelsea/Clinton</td>\n",
       "      <td>101080.00</td>\n",
       "    </tr>\n",
       "    <tr>\n",
       "      <th>3384</th>\n",
       "      <td>Midtown Business District</td>\n",
       "      <td>101080.00</td>\n",
       "    </tr>\n",
       "  </tbody>\n",
       "</table>\n",
       "</div>"
      ],
      "text/plain": [
       "                        Borough average_household_income\n",
       "3380       Battery Park/Tribeca               148152.00 \n",
       "3381          Greenwich Village               148152.00 \n",
       "3382            Lower East Side                48376.00 \n",
       "3383            Chelsea/Clinton               101080.00 \n",
       "3384  Midtown Business District               101080.00 "
      ]
     },
     "execution_count": 18,
     "metadata": {},
     "output_type": "execute_result"
    }
   ],
   "source": [
    "spec_chars = [\",\", \"$\"]\n",
    "\n",
    "\n",
    "for char in spec_chars:\n",
    "    borough['average_household_income'] = borough['average_household_income'].str.replace(char,'')\n",
    "\n",
    "borough.head()"
   ]
  },
  {
   "cell_type": "code",
   "execution_count": 19,
   "metadata": {},
   "outputs": [],
   "source": [
    "borough['average_household_income'] = borough['average_household_income'].str.split().str.join(\"\")"
   ]
  },
  {
   "cell_type": "code",
   "execution_count": 20,
   "metadata": {},
   "outputs": [
    {
     "data": {
      "text/html": [
       "<div>\n",
       "<style scoped>\n",
       "    .dataframe tbody tr th:only-of-type {\n",
       "        vertical-align: middle;\n",
       "    }\n",
       "\n",
       "    .dataframe tbody tr th {\n",
       "        vertical-align: top;\n",
       "    }\n",
       "\n",
       "    .dataframe thead th {\n",
       "        text-align: right;\n",
       "    }\n",
       "</style>\n",
       "<table border=\"1\" class=\"dataframe\">\n",
       "  <thead>\n",
       "    <tr style=\"text-align: right;\">\n",
       "      <th></th>\n",
       "      <th>Borough</th>\n",
       "      <th>average_household_income</th>\n",
       "    </tr>\n",
       "  </thead>\n",
       "  <tbody>\n",
       "    <tr>\n",
       "      <th>3380</th>\n",
       "      <td>Battery Park/Tribeca</td>\n",
       "      <td>148152.00</td>\n",
       "    </tr>\n",
       "    <tr>\n",
       "      <th>3381</th>\n",
       "      <td>Greenwich Village</td>\n",
       "      <td>148152.00</td>\n",
       "    </tr>\n",
       "    <tr>\n",
       "      <th>3382</th>\n",
       "      <td>Lower East Side</td>\n",
       "      <td>48376.00</td>\n",
       "    </tr>\n",
       "    <tr>\n",
       "      <th>3383</th>\n",
       "      <td>Chelsea/Clinton</td>\n",
       "      <td>101080.00</td>\n",
       "    </tr>\n",
       "    <tr>\n",
       "      <th>3384</th>\n",
       "      <td>Midtown Business District</td>\n",
       "      <td>101080.00</td>\n",
       "    </tr>\n",
       "  </tbody>\n",
       "</table>\n",
       "</div>"
      ],
      "text/plain": [
       "                        Borough average_household_income\n",
       "3380       Battery Park/Tribeca                148152.00\n",
       "3381          Greenwich Village                148152.00\n",
       "3382            Lower East Side                 48376.00\n",
       "3383            Chelsea/Clinton                101080.00\n",
       "3384  Midtown Business District                101080.00"
      ]
     },
     "execution_count": 20,
     "metadata": {},
     "output_type": "execute_result"
    }
   ],
   "source": [
    "borough.head()"
   ]
  },
  {
   "cell_type": "code",
   "execution_count": 21,
   "metadata": {},
   "outputs": [],
   "source": [
    "# median_income_df['Data'] =  median_income_df['Data'].astype(float)\n",
    "# median_income_df"
   ]
  },
  {
   "cell_type": "code",
   "execution_count": 22,
   "metadata": {},
   "outputs": [],
   "source": [
    "borough['average_household_income'] = borough['average_household_income'].astype(float)"
   ]
  },
  {
   "cell_type": "code",
   "execution_count": 23,
   "metadata": {},
   "outputs": [
    {
     "data": {
      "text/plain": [
       "Borough                      object\n",
       "average_household_income    float64\n",
       "dtype: object"
      ]
     },
     "execution_count": 23,
     "metadata": {},
     "output_type": "execute_result"
    }
   ],
   "source": [
    "borough.dtypes"
   ]
  },
  {
   "cell_type": "code",
   "execution_count": 24,
   "metadata": {},
   "outputs": [
    {
     "data": {
      "text/html": [
       "<div>\n",
       "<style scoped>\n",
       "    .dataframe tbody tr th:only-of-type {\n",
       "        vertical-align: middle;\n",
       "    }\n",
       "\n",
       "    .dataframe tbody tr th {\n",
       "        vertical-align: top;\n",
       "    }\n",
       "\n",
       "    .dataframe thead th {\n",
       "        text-align: right;\n",
       "    }\n",
       "</style>\n",
       "<table border=\"1\" class=\"dataframe\">\n",
       "  <thead>\n",
       "    <tr style=\"text-align: right;\">\n",
       "      <th></th>\n",
       "      <th>Borough</th>\n",
       "      <th>average_household_income</th>\n",
       "    </tr>\n",
       "  </thead>\n",
       "  <tbody>\n",
       "    <tr>\n",
       "      <th>0</th>\n",
       "      <td>Battery Park/Tribeca</td>\n",
       "      <td>148152.0</td>\n",
       "    </tr>\n",
       "    <tr>\n",
       "      <th>1</th>\n",
       "      <td>Greenwich Village</td>\n",
       "      <td>148152.0</td>\n",
       "    </tr>\n",
       "    <tr>\n",
       "      <th>2</th>\n",
       "      <td>Lower East Side</td>\n",
       "      <td>48376.0</td>\n",
       "    </tr>\n",
       "    <tr>\n",
       "      <th>3</th>\n",
       "      <td>Chelsea/Clinton</td>\n",
       "      <td>101080.0</td>\n",
       "    </tr>\n",
       "    <tr>\n",
       "      <th>4</th>\n",
       "      <td>Midtown Business District</td>\n",
       "      <td>101080.0</td>\n",
       "    </tr>\n",
       "    <tr>\n",
       "      <th>...</th>\n",
       "      <td>...</td>\n",
       "      <td>...</td>\n",
       "    </tr>\n",
       "    <tr>\n",
       "      <th>59</th>\n",
       "      <td>Bronx</td>\n",
       "      <td>38467.0</td>\n",
       "    </tr>\n",
       "    <tr>\n",
       "      <th>60</th>\n",
       "      <td>Brooklyn</td>\n",
       "      <td>61220.0</td>\n",
       "    </tr>\n",
       "    <tr>\n",
       "      <th>61</th>\n",
       "      <td>Manhattan</td>\n",
       "      <td>85066.0</td>\n",
       "    </tr>\n",
       "    <tr>\n",
       "      <th>62</th>\n",
       "      <td>Queens</td>\n",
       "      <td>69320.0</td>\n",
       "    </tr>\n",
       "    <tr>\n",
       "      <th>63</th>\n",
       "      <td>Staten Island</td>\n",
       "      <td>82166.0</td>\n",
       "    </tr>\n",
       "  </tbody>\n",
       "</table>\n",
       "<p>64 rows × 2 columns</p>\n",
       "</div>"
      ],
      "text/plain": [
       "                      Borough  average_household_income\n",
       "0        Battery Park/Tribeca                  148152.0\n",
       "1           Greenwich Village                  148152.0\n",
       "2             Lower East Side                   48376.0\n",
       "3             Chelsea/Clinton                  101080.0\n",
       "4   Midtown Business District                  101080.0\n",
       "..                        ...                       ...\n",
       "59                      Bronx                   38467.0\n",
       "60                   Brooklyn                   61220.0\n",
       "61                  Manhattan                   85066.0\n",
       "62                     Queens                   69320.0\n",
       "63              Staten Island                   82166.0\n",
       "\n",
       "[64 rows x 2 columns]"
      ]
     },
     "execution_count": 24,
     "metadata": {},
     "output_type": "execute_result"
    }
   ],
   "source": [
    "borough.reset_index(inplace = True, drop = True)\n",
    "borough"
   ]
  },
  {
   "cell_type": "code",
   "execution_count": 25,
   "metadata": {},
   "outputs": [
    {
     "data": {
      "text/html": [
       "<div>\n",
       "<style scoped>\n",
       "    .dataframe tbody tr th:only-of-type {\n",
       "        vertical-align: middle;\n",
       "    }\n",
       "\n",
       "    .dataframe tbody tr th {\n",
       "        vertical-align: top;\n",
       "    }\n",
       "\n",
       "    .dataframe thead th {\n",
       "        text-align: right;\n",
       "    }\n",
       "</style>\n",
       "<table border=\"1\" class=\"dataframe\">\n",
       "  <thead>\n",
       "    <tr style=\"text-align: right;\">\n",
       "      <th></th>\n",
       "      <th>Borough</th>\n",
       "      <th>average_household_income</th>\n",
       "    </tr>\n",
       "  </thead>\n",
       "  <tbody>\n",
       "    <tr>\n",
       "      <th>59</th>\n",
       "      <td>Bronx</td>\n",
       "      <td>38467.0</td>\n",
       "    </tr>\n",
       "    <tr>\n",
       "      <th>60</th>\n",
       "      <td>Brooklyn</td>\n",
       "      <td>61220.0</td>\n",
       "    </tr>\n",
       "    <tr>\n",
       "      <th>61</th>\n",
       "      <td>Manhattan</td>\n",
       "      <td>85066.0</td>\n",
       "    </tr>\n",
       "    <tr>\n",
       "      <th>62</th>\n",
       "      <td>Queens</td>\n",
       "      <td>69320.0</td>\n",
       "    </tr>\n",
       "    <tr>\n",
       "      <th>63</th>\n",
       "      <td>Staten Island</td>\n",
       "      <td>82166.0</td>\n",
       "    </tr>\n",
       "  </tbody>\n",
       "</table>\n",
       "</div>"
      ],
      "text/plain": [
       "          Borough  average_household_income\n",
       "59          Bronx                   38467.0\n",
       "60       Brooklyn                   61220.0\n",
       "61      Manhattan                   85066.0\n",
       "62         Queens                   69320.0\n",
       "63  Staten Island                   82166.0"
      ]
     },
     "execution_count": 25,
     "metadata": {},
     "output_type": "execute_result"
    }
   ],
   "source": [
    "final_borough = borough.drop(borough.index[0:59])\n",
    "final_borough"
   ]
  },
  {
   "cell_type": "code",
   "execution_count": null,
   "metadata": {},
   "outputs": [],
   "source": []
  }
 ],
 "metadata": {
  "kernelspec": {
   "display_name": "Python 3",
   "language": "python",
   "name": "python3"
  },
  "language_info": {
   "codemirror_mode": {
    "name": "ipython",
    "version": 3
   },
   "file_extension": ".py",
   "mimetype": "text/x-python",
   "name": "python",
   "nbconvert_exporter": "python",
   "pygments_lexer": "ipython3",
   "version": "3.6.10"
  }
 },
 "nbformat": 4,
 "nbformat_minor": 4
}
||||||| ddb21dd
=======
||||||| merged common ancestors
=======
{
 "cells": [
  {
   "cell_type": "code",
<<<<<<< HEAD
   "execution_count": 1,
||||||| merged common ancestors
   "execution_count": 8,
=======
<<<<<<< HEAD
   "execution_count": 8,
=======
   "execution_count": 1,
>>>>>>> caa443c7ac06ca17abc3ea020e37cf2c27d3c606
>>>>>>> f5025f6b59170c99ce277f827ce6714ad3383ac8
   "metadata": {},
   "outputs": [],
   "source": [
    "import os\n",
    "import csv\n",
    "import pandas as pd\n",
    "import numpy as np\n",
    "import regex as re"
   ]
  },
  {
   "cell_type": "code",
<<<<<<< HEAD
   "execution_count": 2,
||||||| merged common ancestors
   "execution_count": 9,
=======
<<<<<<< HEAD
   "execution_count": 9,
=======
   "execution_count": 2,
>>>>>>> caa443c7ac06ca17abc3ea020e37cf2c27d3c606
>>>>>>> f5025f6b59170c99ce277f827ce6714ad3383ac8
   "metadata": {},
   "outputs": [
    {
     "data": {
      "text/html": [
       "<div>\n",
       "<style scoped>\n",
       "    .dataframe tbody tr th:only-of-type {\n",
       "        vertical-align: middle;\n",
       "    }\n",
       "\n",
       "    .dataframe tbody tr th {\n",
       "        vertical-align: top;\n",
       "    }\n",
       "\n",
       "    .dataframe thead th {\n",
       "        text-align: right;\n",
       "    }\n",
       "</style>\n",
       "<table border=\"1\" class=\"dataframe\">\n",
       "  <thead>\n",
       "    <tr style=\"text-align: right;\">\n",
       "      <th></th>\n",
       "      <th>ZIP</th>\n",
       "      <th>Neighborhood</th>\n",
       "      <th>Borough</th>\n",
       "      <th>Cases</th>\n",
       "      <th>Cases per 100,000</th>\n",
       "      <th>Deaths per 100,000</th>\n",
       "      <th>Percent positive&lt;br&gt;(of people tested)</th>\n",
       "    </tr>\n",
       "  </thead>\n",
       "  <tbody>\n",
       "    <tr>\n",
       "      <th>0</th>\n",
       "      <td>10001</td>\n",
       "      <td>Chelsea/NoMad/West Chelsea</td>\n",
       "      <td>Manhattan</td>\n",
       "      <td>420</td>\n",
       "      <td>1782.45</td>\n",
       "      <td>106.10</td>\n",
       "      <td>6.95</td>\n",
       "    </tr>\n",
       "    <tr>\n",
       "      <th>1</th>\n",
       "      <td>10002</td>\n",
       "      <td>Chinatown/Lower East Side</td>\n",
       "      <td>Manhattan</td>\n",
       "      <td>1237</td>\n",
       "      <td>1611.61</td>\n",
       "      <td>208.45</td>\n",
       "      <td>10.00</td>\n",
       "    </tr>\n",
       "    <tr>\n",
       "      <th>2</th>\n",
       "      <td>10003</td>\n",
       "      <td>East Village/Gramercy/Greenwich Village</td>\n",
       "      <td>Manhattan</td>\n",
       "      <td>516</td>\n",
       "      <td>959.08</td>\n",
       "      <td>63.20</td>\n",
       "      <td>5.39</td>\n",
       "    </tr>\n",
       "    <tr>\n",
       "      <th>3</th>\n",
       "      <td>10004</td>\n",
       "      <td>Financial District</td>\n",
       "      <td>Manhattan</td>\n",
       "      <td>39</td>\n",
       "      <td>1068.32</td>\n",
       "      <td>27.39</td>\n",
       "      <td>6.04</td>\n",
       "    </tr>\n",
       "    <tr>\n",
       "      <th>4</th>\n",
       "      <td>10005</td>\n",
       "      <td>Financial District</td>\n",
       "      <td>Manhattan</td>\n",
       "      <td>81</td>\n",
       "      <td>964.73</td>\n",
       "      <td>23.82</td>\n",
       "      <td>5.31</td>\n",
       "    </tr>\n",
       "  </tbody>\n",
       "</table>\n",
       "</div>"
      ],
      "text/plain": [
       "     ZIP                             Neighborhood    Borough  Cases  \\\n",
       "0  10001               Chelsea/NoMad/West Chelsea  Manhattan    420   \n",
       "1  10002                Chinatown/Lower East Side  Manhattan   1237   \n",
       "2  10003  East Village/Gramercy/Greenwich Village  Manhattan    516   \n",
       "3  10004                       Financial District  Manhattan     39   \n",
       "4  10005                       Financial District  Manhattan     81   \n",
       "\n",
       "   Cases per 100,000  Deaths per 100,000  \\\n",
       "0            1782.45              106.10   \n",
       "1            1611.61              208.45   \n",
       "2             959.08               63.20   \n",
       "3            1068.32               27.39   \n",
       "4             964.73               23.82   \n",
       "\n",
       "   Percent positive<br>(of people tested)  \n",
       "0                                    6.95  \n",
       "1                                   10.00  \n",
       "2                                    5.39  \n",
       "3                                    6.04  \n",
       "4                                    5.31  "
      ]
     },
<<<<<<< HEAD
     "execution_count": 2,
||||||| merged common ancestors
     "execution_count": 9,
=======
<<<<<<< HEAD
     "execution_count": 9,
=======
     "execution_count": 2,
>>>>>>> caa443c7ac06ca17abc3ea020e37cf2c27d3c606
>>>>>>> f5025f6b59170c99ce277f827ce6714ad3383ac8
     "metadata": {},
     "output_type": "execute_result"
    }
   ],
   "source": [
    "zip_code = \"Data Set/zip_code.csv\"\n",
    "zip_code_df = pd.read_csv(zip_code)\n",
    "zip_code_df.head()"
   ]
  },
  {
   "cell_type": "code",
<<<<<<< HEAD
   "execution_count": 3,
||||||| merged common ancestors
   "execution_count": 10,
=======
<<<<<<< HEAD
   "execution_count": 10,
=======
   "execution_count": 3,
>>>>>>> caa443c7ac06ca17abc3ea020e37cf2c27d3c606
>>>>>>> f5025f6b59170c99ce277f827ce6714ad3383ac8
   "metadata": {},
   "outputs": [
    {
     "data": {
      "text/html": [
       "<div>\n",
       "<style scoped>\n",
       "    .dataframe tbody tr th:only-of-type {\n",
       "        vertical-align: middle;\n",
       "    }\n",
       "\n",
       "    .dataframe tbody tr th {\n",
       "        vertical-align: top;\n",
       "    }\n",
       "\n",
       "    .dataframe thead th {\n",
       "        text-align: right;\n",
       "    }\n",
       "</style>\n",
       "<table border=\"1\" class=\"dataframe\">\n",
       "  <thead>\n",
       "    <tr style=\"text-align: right;\">\n",
       "      <th></th>\n",
       "      <th>Location</th>\n",
       "      <th>Household Type</th>\n",
       "      <th>TimeFrame</th>\n",
       "      <th>DataFormat</th>\n",
       "      <th>Data</th>\n",
       "      <th>Fips</th>\n",
       "    </tr>\n",
       "  </thead>\n",
       "  <tbody>\n",
       "    <tr>\n",
       "      <th>0</th>\n",
       "      <td>Riverdale</td>\n",
       "      <td>All Households</td>\n",
       "      <td>2005</td>\n",
       "      <td>Dollars</td>\n",
       "      <td>$60,686.22</td>\n",
       "      <td>208</td>\n",
       "    </tr>\n",
       "    <tr>\n",
       "      <th>1</th>\n",
       "      <td>Williamsbridge</td>\n",
       "      <td>All Households</td>\n",
       "      <td>2005</td>\n",
       "      <td>Dollars</td>\n",
       "      <td>$49,881.99</td>\n",
       "      <td>212</td>\n",
       "    </tr>\n",
       "    <tr>\n",
       "      <th>2</th>\n",
       "      <td>Throgs Neck</td>\n",
       "      <td>All Households</td>\n",
       "      <td>2005</td>\n",
       "      <td>Dollars</td>\n",
       "      <td>$55,211.29</td>\n",
       "      <td>210</td>\n",
       "    </tr>\n",
       "    <tr>\n",
       "      <th>3</th>\n",
       "      <td>Pelham Parkway</td>\n",
       "      <td>All Households</td>\n",
       "      <td>2005</td>\n",
       "      <td>Dollars</td>\n",
       "      <td>$50,494.64</td>\n",
       "      <td>211</td>\n",
       "    </tr>\n",
       "    <tr>\n",
       "      <th>4</th>\n",
       "      <td>Morrisania</td>\n",
       "      <td>All Households</td>\n",
       "      <td>2005</td>\n",
       "      <td>Dollars</td>\n",
       "      <td>$23,524.24</td>\n",
       "      <td>203</td>\n",
       "    </tr>\n",
       "  </tbody>\n",
       "</table>\n",
       "</div>"
      ],
      "text/plain": [
<<<<<<< HEAD
       "         Location  Household Type  TimeFrame DataFormat         Data   Fips\n",
||||||| merged common ancestors
       "         Location  Household Type  TimeFrame DataFormat          Data  Fips\n",
=======
<<<<<<< HEAD
       "         Location  Household Type  TimeFrame DataFormat          Data  Fips\n",
=======
       "         Location  Household Type  TimeFrame DataFormat         Data   Fips\n",
>>>>>>> caa443c7ac06ca17abc3ea020e37cf2c27d3c606
>>>>>>> f5025f6b59170c99ce277f827ce6714ad3383ac8
       "0       Riverdale  All Households       2005    Dollars   $60,686.22    208\n",
       "1  Williamsbridge  All Households       2005    Dollars   $49,881.99    212\n",
       "2     Throgs Neck  All Households       2005    Dollars   $55,211.29    210\n",
       "3  Pelham Parkway  All Households       2005    Dollars   $50,494.64    211\n",
       "4      Morrisania  All Households       2005    Dollars   $23,524.24    203"
      ]
     },
<<<<<<< HEAD
     "execution_count": 3,
||||||| merged common ancestors
     "execution_count": 10,
=======
<<<<<<< HEAD
     "execution_count": 10,
=======
     "execution_count": 3,
>>>>>>> caa443c7ac06ca17abc3ea020e37cf2c27d3c606
>>>>>>> f5025f6b59170c99ce277f827ce6714ad3383ac8
     "metadata": {},
     "output_type": "execute_result"
    }
   ],
   "source": [
    "median = \"Data Set/median_incomes.csv\"\n",
    "median_income_df = pd.read_csv(median, quoting=csv.QUOTE_MINIMAL, skipinitialspace=True, )\n",
    "median_income_df.head()"
   ]
  },
  {
   "cell_type": "code",
<<<<<<< HEAD
   "execution_count": 4,
||||||| merged common ancestors
   "execution_count": 11,
=======
<<<<<<< HEAD
   "execution_count": 11,
=======
   "execution_count": 4,
>>>>>>> caa443c7ac06ca17abc3ea020e37cf2c27d3c606
>>>>>>> f5025f6b59170c99ce277f827ce6714ad3383ac8
   "metadata": {},
   "outputs": [
    {
     "data": {
      "text/plain": [
       "Location          object\n",
       "Household Type    object\n",
       "TimeFrame          int64\n",
       "DataFormat        object\n",
       "Data              object\n",
       "Fips               int64\n",
       "dtype: object"
      ]
     },
<<<<<<< HEAD
     "execution_count": 4,
||||||| merged common ancestors
     "execution_count": 11,
=======
<<<<<<< HEAD
     "execution_count": 11,
=======
     "execution_count": 4,
>>>>>>> caa443c7ac06ca17abc3ea020e37cf2c27d3c606
>>>>>>> f5025f6b59170c99ce277f827ce6714ad3383ac8
     "metadata": {},
     "output_type": "execute_result"
    }
   ],
   "source": [
    "median_income_df.dtypes"
   ]
  },
  {
   "cell_type": "code",
<<<<<<< HEAD
   "execution_count": 11,
||||||| merged common ancestors
   "execution_count": 12,
=======
<<<<<<< HEAD
   "execution_count": 12,
=======
   "execution_count": 11,
>>>>>>> caa443c7ac06ca17abc3ea020e37cf2c27d3c606
>>>>>>> f5025f6b59170c99ce277f827ce6714ad3383ac8
   "metadata": {},
   "outputs": [],
   "source": [
    "household = median_income_df.loc[(median_income_df['Household Type'] == 'All Households')]\n"
   ]
  },
  {
   "cell_type": "code",
<<<<<<< HEAD
   "execution_count": 12,
||||||| merged common ancestors
   "execution_count": 13,
=======
<<<<<<< HEAD
   "execution_count": 13,
=======
   "execution_count": 12,
>>>>>>> caa443c7ac06ca17abc3ea020e37cf2c27d3c606
>>>>>>> f5025f6b59170c99ce277f827ce6714ad3383ac8
   "metadata": {},
   "outputs": [
    {
     "data": {
      "text/html": [
       "<div>\n",
       "<style scoped>\n",
       "    .dataframe tbody tr th:only-of-type {\n",
       "        vertical-align: middle;\n",
       "    }\n",
       "\n",
       "    .dataframe tbody tr th {\n",
       "        vertical-align: top;\n",
       "    }\n",
       "\n",
       "    .dataframe thead th {\n",
       "        text-align: right;\n",
       "    }\n",
       "</style>\n",
       "<table border=\"1\" class=\"dataframe\">\n",
       "  <thead>\n",
       "    <tr style=\"text-align: right;\">\n",
       "      <th></th>\n",
       "      <th>Location</th>\n",
       "      <th>Household Type</th>\n",
       "      <th>TimeFrame</th>\n",
       "      <th>DataFormat</th>\n",
       "      <th>Data</th>\n",
       "      <th>Fips</th>\n",
       "    </tr>\n",
       "  </thead>\n",
       "  <tbody>\n",
       "    <tr>\n",
       "      <th>3440</th>\n",
       "      <td>Brooklyn</td>\n",
       "      <td>All Households</td>\n",
       "      <td>2018</td>\n",
       "      <td>Dollars</td>\n",
       "      <td>$61,220.00</td>\n",
       "      <td>36047</td>\n",
       "    </tr>\n",
       "    <tr>\n",
       "      <th>3441</th>\n",
       "      <td>Manhattan</td>\n",
       "      <td>All Households</td>\n",
       "      <td>2018</td>\n",
       "      <td>Dollars</td>\n",
       "      <td>$85,066.00</td>\n",
       "      <td>36061</td>\n",
       "    </tr>\n",
       "    <tr>\n",
       "      <th>3442</th>\n",
       "      <td>Queens</td>\n",
       "      <td>All Households</td>\n",
       "      <td>2018</td>\n",
       "      <td>Dollars</td>\n",
       "      <td>$69,320.00</td>\n",
       "      <td>36081</td>\n",
       "    </tr>\n",
       "    <tr>\n",
       "      <th>3443</th>\n",
       "      <td>Staten Island</td>\n",
       "      <td>All Households</td>\n",
       "      <td>2018</td>\n",
       "      <td>Dollars</td>\n",
       "      <td>$82,166.00</td>\n",
       "      <td>36085</td>\n",
       "    </tr>\n",
       "    <tr>\n",
       "      <th>3444</th>\n",
       "      <td>New York City</td>\n",
       "      <td>All Households</td>\n",
       "      <td>2018</td>\n",
       "      <td>Dollars</td>\n",
       "      <td>$63,799.00</td>\n",
       "      <td>3651000</td>\n",
       "    </tr>\n",
       "  </tbody>\n",
       "</table>\n",
       "</div>"
      ],
      "text/plain": [
<<<<<<< HEAD
       "           Location  Household Type  TimeFrame DataFormat         Data   \\\n",
||||||| merged common ancestors
       "           Location  Household Type  TimeFrame DataFormat          Data  \\\n",
=======
<<<<<<< HEAD
       "           Location  Household Type  TimeFrame DataFormat          Data  \\\n",
=======
       "           Location  Household Type  TimeFrame DataFormat         Data   \\\n",
>>>>>>> caa443c7ac06ca17abc3ea020e37cf2c27d3c606
>>>>>>> f5025f6b59170c99ce277f827ce6714ad3383ac8
       "3440       Brooklyn  All Households       2018    Dollars   $61,220.00    \n",
       "3441      Manhattan  All Households       2018    Dollars   $85,066.00    \n",
       "3442         Queens  All Households       2018    Dollars   $69,320.00    \n",
       "3443  Staten Island  All Households       2018    Dollars   $82,166.00    \n",
       "3444  New York City  All Households       2018    Dollars   $63,799.00    \n",
       "\n",
       "         Fips  \n",
       "3440    36047  \n",
       "3441    36061  \n",
       "3442    36081  \n",
       "3443    36085  \n",
       "3444  3651000  "
      ]
     },
<<<<<<< HEAD
     "execution_count": 12,
||||||| merged common ancestors
     "execution_count": 13,
=======
<<<<<<< HEAD
     "execution_count": 13,
=======
     "execution_count": 12,
>>>>>>> caa443c7ac06ca17abc3ea020e37cf2c27d3c606
>>>>>>> f5025f6b59170c99ce277f827ce6714ad3383ac8
     "metadata": {},
     "output_type": "execute_result"
    }
   ],
   "source": [
    "time = household.loc[(household[\"TimeFrame\"] == 2018)]\n",
    "time.tail()"
   ]
  },
  {
   "cell_type": "code",
<<<<<<< HEAD
   "execution_count": 17,
   "metadata": {},
   "outputs": [],
   "source": [
    "boroughs = time.loc[time[\"Location\"].str.contains('Bronx', '' )]\n",
    "# boroughs"
   ]
  },
  {
   "cell_type": "code",
   "execution_count": 24,
||||||| merged common ancestors
   "execution_count": 16,
=======
<<<<<<< HEAD
   "execution_count": 16,
>>>>>>> f5025f6b59170c99ce277f827ce6714ad3383ac8
   "metadata": {},
   "outputs": [
    {
     "data": {
      "text/html": [
       "<div>\n",
       "<style scoped>\n",
       "    .dataframe tbody tr th:only-of-type {\n",
       "        vertical-align: middle;\n",
       "    }\n",
       "\n",
       "    .dataframe tbody tr th {\n",
       "        vertical-align: top;\n",
       "    }\n",
       "\n",
       "    .dataframe thead th {\n",
       "        text-align: right;\n",
       "    }\n",
       "</style>\n",
       "<table border=\"1\" class=\"dataframe\">\n",
       "  <thead>\n",
       "    <tr style=\"text-align: right;\">\n",
       "      <th></th>\n",
<<<<<<< HEAD
       "      <th>Borough</th>\n",
       "      <th>average_household_income</th>\n",
||||||| merged common ancestors
       "      <th>Location</th>\n",
       "      <th>Household Type</th>\n",
       "      <th>TimeFrame</th>\n",
       "      <th>DataFormat</th>\n",
       "      <th>Data</th>\n",
       "      <th>Fips</th>\n",
       "    </tr>\n",
       "  </thead>\n",
       "  <tbody>\n",
       "    <tr>\n",
       "      <th>3380</th>\n",
       "      <td>Battery Park/Tribeca</td>\n",
       "      <td>All Households</td>\n",
       "      <td>2018</td>\n",
       "      <td>Dollars</td>\n",
       "      <td>$148,152.00</td>\n",
       "      <td>101</td>\n",
       "    </tr>\n",
       "    <tr>\n",
       "      <th>3381</th>\n",
       "      <td>Greenwich Village</td>\n",
       "      <td>All Households</td>\n",
       "      <td>2018</td>\n",
       "      <td>Dollars</td>\n",
       "      <td>$148,152.00</td>\n",
       "      <td>102</td>\n",
       "    </tr>\n",
       "    <tr>\n",
       "      <th>3382</th>\n",
       "      <td>Lower East Side</td>\n",
       "      <td>All Households</td>\n",
       "      <td>2018</td>\n",
       "      <td>Dollars</td>\n",
       "      <td>$48,376.00</td>\n",
       "      <td>103</td>\n",
       "    </tr>\n",
       "    <tr>\n",
       "      <th>3383</th>\n",
       "      <td>Chelsea/Clinton</td>\n",
       "      <td>All Households</td>\n",
       "      <td>2018</td>\n",
       "      <td>Dollars</td>\n",
       "      <td>$101,080.00</td>\n",
       "      <td>104</td>\n",
       "    </tr>\n",
       "    <tr>\n",
       "      <th>3384</th>\n",
       "      <td>Midtown Business District</td>\n",
       "      <td>All Households</td>\n",
       "      <td>2018</td>\n",
       "      <td>Dollars</td>\n",
       "      <td>$101,080.00</td>\n",
       "      <td>105</td>\n",
       "    </tr>\n",
       "    <tr>\n",
       "      <th>...</th>\n",
       "      <td>...</td>\n",
       "      <td>...</td>\n",
       "      <td>...</td>\n",
       "      <td>...</td>\n",
       "      <td>...</td>\n",
       "      <td>...</td>\n",
       "    </tr>\n",
       "    <tr>\n",
       "      <th>3439</th>\n",
       "      <td>Bronx</td>\n",
       "      <td>All Households</td>\n",
       "      <td>2018</td>\n",
       "      <td>Dollars</td>\n",
       "      <td>$38,467.00</td>\n",
       "      <td>36005</td>\n",
       "    </tr>\n",
       "    <tr>\n",
       "      <th>3440</th>\n",
       "      <td>Brooklyn</td>\n",
       "      <td>All Households</td>\n",
       "      <td>2018</td>\n",
       "      <td>Dollars</td>\n",
       "      <td>$61,220.00</td>\n",
       "      <td>36047</td>\n",
       "    </tr>\n",
       "    <tr>\n",
       "      <th>3441</th>\n",
       "      <td>Manhattan</td>\n",
       "      <td>All Households</td>\n",
       "      <td>2018</td>\n",
       "      <td>Dollars</td>\n",
       "      <td>$85,066.00</td>\n",
       "      <td>36061</td>\n",
       "    </tr>\n",
       "    <tr>\n",
       "      <th>3442</th>\n",
       "      <td>Queens</td>\n",
       "      <td>All Households</td>\n",
       "      <td>2018</td>\n",
       "      <td>Dollars</td>\n",
       "      <td>$69,320.00</td>\n",
       "      <td>36081</td>\n",
       "    </tr>\n",
       "    <tr>\n",
       "      <th>3443</th>\n",
       "      <td>Staten Island</td>\n",
       "      <td>All Households</td>\n",
       "      <td>2018</td>\n",
       "      <td>Dollars</td>\n",
       "      <td>$82,166.00</td>\n",
       "      <td>36085</td>\n",
       "    </tr>\n",
       "  </tbody>\n",
       "</table>\n",
       "<p>64 rows × 6 columns</p>\n",
       "</div>"
      ],
      "text/plain": [
       "                       Location  Household Type  TimeFrame DataFormat  \\\n",
       "3380       Battery Park/Tribeca  All Households       2018    Dollars   \n",
       "3381          Greenwich Village  All Households       2018    Dollars   \n",
       "3382            Lower East Side  All Households       2018    Dollars   \n",
       "3383            Chelsea/Clinton  All Households       2018    Dollars   \n",
       "3384  Midtown Business District  All Households       2018    Dollars   \n",
       "...                         ...             ...        ...        ...   \n",
       "3439                      Bronx  All Households       2018    Dollars   \n",
       "3440                   Brooklyn  All Households       2018    Dollars   \n",
       "3441                  Manhattan  All Households       2018    Dollars   \n",
       "3442                     Queens  All Households       2018    Dollars   \n",
       "3443              Staten Island  All Households       2018    Dollars   \n",
       "\n",
       "               Data   Fips  \n",
       "3380   $148,152.00     101  \n",
       "3381   $148,152.00     102  \n",
       "3382    $48,376.00     103  \n",
       "3383   $101,080.00     104  \n",
       "3384   $101,080.00     105  \n",
       "...             ...    ...  \n",
       "3439    $38,467.00   36005  \n",
       "3440    $61,220.00   36047  \n",
       "3441    $85,066.00   36061  \n",
       "3442    $69,320.00   36081  \n",
       "3443    $82,166.00   36085  \n",
       "\n",
       "[64 rows x 6 columns]"
      ]
     },
     "execution_count": 16,
     "metadata": {},
     "output_type": "execute_result"
    }
   ],
   "source": [
    "boroughs = time.loc[~time[\"Location\"].str.contains('New York City')]\n",
    "boroughs"
   ]
  },
  {
   "cell_type": "code",
   "execution_count": 17,
   "metadata": {},
   "outputs": [
    {
     "data": {
      "text/html": [
       "<div>\n",
       "<style scoped>\n",
       "    .dataframe tbody tr th:only-of-type {\n",
       "        vertical-align: middle;\n",
       "    }\n",
       "\n",
       "    .dataframe tbody tr th {\n",
       "        vertical-align: top;\n",
       "    }\n",
       "\n",
       "    .dataframe thead th {\n",
       "        text-align: right;\n",
       "    }\n",
       "</style>\n",
       "<table border=\"1\" class=\"dataframe\">\n",
       "  <thead>\n",
       "    <tr style=\"text-align: right;\">\n",
       "      <th></th>\n",
       "      <th>Borough</th>\n",
       "      <th>average_household_income</th>\n",
=======
       "      <th>Location</th>\n",
       "      <th>Household Type</th>\n",
       "      <th>TimeFrame</th>\n",
       "      <th>DataFormat</th>\n",
       "      <th>Data</th>\n",
       "      <th>Fips</th>\n",
       "    </tr>\n",
       "  </thead>\n",
       "  <tbody>\n",
       "    <tr>\n",
       "      <th>3380</th>\n",
       "      <td>Battery Park/Tribeca</td>\n",
       "      <td>All Households</td>\n",
       "      <td>2018</td>\n",
       "      <td>Dollars</td>\n",
       "      <td>$148,152.00</td>\n",
       "      <td>101</td>\n",
       "    </tr>\n",
       "    <tr>\n",
       "      <th>3381</th>\n",
       "      <td>Greenwich Village</td>\n",
       "      <td>All Households</td>\n",
       "      <td>2018</td>\n",
       "      <td>Dollars</td>\n",
       "      <td>$148,152.00</td>\n",
       "      <td>102</td>\n",
       "    </tr>\n",
       "    <tr>\n",
       "      <th>3382</th>\n",
       "      <td>Lower East Side</td>\n",
       "      <td>All Households</td>\n",
       "      <td>2018</td>\n",
       "      <td>Dollars</td>\n",
       "      <td>$48,376.00</td>\n",
       "      <td>103</td>\n",
       "    </tr>\n",
       "    <tr>\n",
       "      <th>3383</th>\n",
       "      <td>Chelsea/Clinton</td>\n",
       "      <td>All Households</td>\n",
       "      <td>2018</td>\n",
       "      <td>Dollars</td>\n",
       "      <td>$101,080.00</td>\n",
       "      <td>104</td>\n",
       "    </tr>\n",
       "    <tr>\n",
       "      <th>3384</th>\n",
       "      <td>Midtown Business District</td>\n",
       "      <td>All Households</td>\n",
       "      <td>2018</td>\n",
       "      <td>Dollars</td>\n",
       "      <td>$101,080.00</td>\n",
       "      <td>105</td>\n",
       "    </tr>\n",
       "    <tr>\n",
       "      <th>...</th>\n",
       "      <td>...</td>\n",
       "      <td>...</td>\n",
       "      <td>...</td>\n",
       "      <td>...</td>\n",
       "      <td>...</td>\n",
       "      <td>...</td>\n",
       "    </tr>\n",
       "    <tr>\n",
       "      <th>3439</th>\n",
       "      <td>Bronx</td>\n",
       "      <td>All Households</td>\n",
       "      <td>2018</td>\n",
       "      <td>Dollars</td>\n",
       "      <td>$38,467.00</td>\n",
       "      <td>36005</td>\n",
       "    </tr>\n",
       "    <tr>\n",
       "      <th>3440</th>\n",
       "      <td>Brooklyn</td>\n",
       "      <td>All Households</td>\n",
       "      <td>2018</td>\n",
       "      <td>Dollars</td>\n",
       "      <td>$61,220.00</td>\n",
       "      <td>36047</td>\n",
       "    </tr>\n",
       "    <tr>\n",
       "      <th>3441</th>\n",
       "      <td>Manhattan</td>\n",
       "      <td>All Households</td>\n",
       "      <td>2018</td>\n",
       "      <td>Dollars</td>\n",
       "      <td>$85,066.00</td>\n",
       "      <td>36061</td>\n",
       "    </tr>\n",
       "    <tr>\n",
       "      <th>3442</th>\n",
       "      <td>Queens</td>\n",
       "      <td>All Households</td>\n",
       "      <td>2018</td>\n",
       "      <td>Dollars</td>\n",
       "      <td>$69,320.00</td>\n",
       "      <td>36081</td>\n",
       "    </tr>\n",
       "    <tr>\n",
       "      <th>3443</th>\n",
       "      <td>Staten Island</td>\n",
       "      <td>All Households</td>\n",
       "      <td>2018</td>\n",
       "      <td>Dollars</td>\n",
       "      <td>$82,166.00</td>\n",
       "      <td>36085</td>\n",
       "    </tr>\n",
       "  </tbody>\n",
       "</table>\n",
       "<p>64 rows × 6 columns</p>\n",
       "</div>"
      ],
      "text/plain": [
       "                       Location  Household Type  TimeFrame DataFormat  \\\n",
       "3380       Battery Park/Tribeca  All Households       2018    Dollars   \n",
       "3381          Greenwich Village  All Households       2018    Dollars   \n",
       "3382            Lower East Side  All Households       2018    Dollars   \n",
       "3383            Chelsea/Clinton  All Households       2018    Dollars   \n",
       "3384  Midtown Business District  All Households       2018    Dollars   \n",
       "...                         ...             ...        ...        ...   \n",
       "3439                      Bronx  All Households       2018    Dollars   \n",
       "3440                   Brooklyn  All Households       2018    Dollars   \n",
       "3441                  Manhattan  All Households       2018    Dollars   \n",
       "3442                     Queens  All Households       2018    Dollars   \n",
       "3443              Staten Island  All Households       2018    Dollars   \n",
       "\n",
       "               Data   Fips  \n",
       "3380   $148,152.00     101  \n",
       "3381   $148,152.00     102  \n",
       "3382    $48,376.00     103  \n",
       "3383   $101,080.00     104  \n",
       "3384   $101,080.00     105  \n",
       "...             ...    ...  \n",
       "3439    $38,467.00   36005  \n",
       "3440    $61,220.00   36047  \n",
       "3441    $85,066.00   36061  \n",
       "3442    $69,320.00   36081  \n",
       "3443    $82,166.00   36085  \n",
       "\n",
       "[64 rows x 6 columns]"
      ]
     },
     "execution_count": 16,
     "metadata": {},
     "output_type": "execute_result"
    }
   ],
   "source": [
    "boroughs = time.loc[~time[\"Location\"].str.contains('New York City')]\n",
    "boroughs"
=======
   "execution_count": 17,
   "metadata": {},
   "outputs": [],
   "source": [
    "boroughs = time.loc[time[\"Location\"].str.contains('Bronx', '' )]\n",
    "# boroughs"
>>>>>>> caa443c7ac06ca17abc3ea020e37cf2c27d3c606
   ]
  },
  {
   "cell_type": "code",
<<<<<<< HEAD
   "execution_count": 17,
=======
   "execution_count": 24,
>>>>>>> caa443c7ac06ca17abc3ea020e37cf2c27d3c606
   "metadata": {},
   "outputs": [
    {
     "data": {
      "text/html": [
       "<div>\n",
       "<style scoped>\n",
       "    .dataframe tbody tr th:only-of-type {\n",
       "        vertical-align: middle;\n",
       "    }\n",
       "\n",
       "    .dataframe tbody tr th {\n",
       "        vertical-align: top;\n",
       "    }\n",
       "\n",
       "    .dataframe thead th {\n",
       "        text-align: right;\n",
       "    }\n",
       "</style>\n",
       "<table border=\"1\" class=\"dataframe\">\n",
       "  <thead>\n",
       "    <tr style=\"text-align: right;\">\n",
       "      <th></th>\n",
       "      <th>Borough</th>\n",
       "      <th>average_household_income</th>\n",
>>>>>>> f5025f6b59170c99ce277f827ce6714ad3383ac8
       "    </tr>\n",
       "  </thead>\n",
       "  <tbody>\n",
       "    <tr>\n",
       "      <th>3380</th>\n",
       "      <td>Battery Park/Tribeca</td>\n",
       "      <td>$148,152.00</td>\n",
       "    </tr>\n",
       "    <tr>\n",
       "      <th>3381</th>\n",
       "      <td>Greenwich Village</td>\n",
       "      <td>$148,152.00</td>\n",
       "    </tr>\n",
       "    <tr>\n",
       "      <th>3382</th>\n",
       "      <td>Lower East Side</td>\n",
       "      <td>$48,376.00</td>\n",
       "    </tr>\n",
       "    <tr>\n",
       "      <th>3383</th>\n",
       "      <td>Chelsea/Clinton</td>\n",
       "      <td>$101,080.00</td>\n",
       "    </tr>\n",
       "    <tr>\n",
       "      <th>3384</th>\n",
       "      <td>Midtown Business District</td>\n",
       "      <td>$101,080.00</td>\n",
       "    </tr>\n",
       "    <tr>\n",
       "      <th>...</th>\n",
       "      <td>...</td>\n",
       "      <td>...</td>\n",
       "    </tr>\n",
       "    <tr>\n",
       "      <th>3439</th>\n",
       "      <td>Bronx</td>\n",
       "      <td>$38,467.00</td>\n",
       "    </tr>\n",
       "    <tr>\n",
       "      <th>3440</th>\n",
       "      <td>Brooklyn</td>\n",
       "      <td>$61,220.00</td>\n",
       "    </tr>\n",
       "    <tr>\n",
       "      <th>3441</th>\n",
       "      <td>Manhattan</td>\n",
       "      <td>$85,066.00</td>\n",
       "    </tr>\n",
       "    <tr>\n",
       "      <th>3442</th>\n",
       "      <td>Queens</td>\n",
       "      <td>$69,320.00</td>\n",
       "    </tr>\n",
       "    <tr>\n",
       "      <th>3443</th>\n",
       "      <td>Staten Island</td>\n",
       "      <td>$82,166.00</td>\n",
       "    </tr>\n",
       "  </tbody>\n",
       "</table>\n",
       "<p>64 rows × 2 columns</p>\n",
       "</div>"
      ],
      "text/plain": [
       "                        Borough average_household_income\n",
       "3380       Battery Park/Tribeca             $148,152.00 \n",
       "3381          Greenwich Village             $148,152.00 \n",
       "3382            Lower East Side              $48,376.00 \n",
       "3383            Chelsea/Clinton             $101,080.00 \n",
       "3384  Midtown Business District             $101,080.00 \n",
       "...                         ...                      ...\n",
       "3439                      Bronx              $38,467.00 \n",
       "3440                   Brooklyn              $61,220.00 \n",
       "3441                  Manhattan              $85,066.00 \n",
       "3442                     Queens              $69,320.00 \n",
       "3443              Staten Island              $82,166.00 \n",
       "\n",
       "[64 rows x 2 columns]"
      ]
     },
<<<<<<< HEAD
     "execution_count": 24,
||||||| merged common ancestors
     "execution_count": 17,
=======
<<<<<<< HEAD
     "execution_count": 17,
=======
     "execution_count": 24,
>>>>>>> caa443c7ac06ca17abc3ea020e37cf2c27d3c606
>>>>>>> f5025f6b59170c99ce277f827ce6714ad3383ac8
     "metadata": {},
     "output_type": "execute_result"
    }
   ],
   "source": [
    "borough = boroughs.drop(['Household Type', 'DataFormat', 'TimeFrame', 'Fips'], axis=1)\n",
    "\n",
    "borough.columns = [\"Borough\", \"average_household_income\"]\n",
    "borough"
   ]
  },
  {
   "cell_type": "code",
<<<<<<< HEAD
   "execution_count": 27,
||||||| merged common ancestors
   "execution_count": 18,
=======
<<<<<<< HEAD
   "execution_count": 18,
=======
   "execution_count": 27,
>>>>>>> caa443c7ac06ca17abc3ea020e37cf2c27d3c606
>>>>>>> f5025f6b59170c99ce277f827ce6714ad3383ac8
   "metadata": {},
   "outputs": [
    {
     "data": {
      "text/html": [
       "<div>\n",
       "<style scoped>\n",
       "    .dataframe tbody tr th:only-of-type {\n",
       "        vertical-align: middle;\n",
       "    }\n",
       "\n",
       "    .dataframe tbody tr th {\n",
       "        vertical-align: top;\n",
       "    }\n",
       "\n",
       "    .dataframe thead th {\n",
       "        text-align: right;\n",
       "    }\n",
       "</style>\n",
       "<table border=\"1\" class=\"dataframe\">\n",
       "  <thead>\n",
       "    <tr style=\"text-align: right;\">\n",
       "      <th></th>\n",
       "      <th>Borough</th>\n",
       "      <th>average_household_income</th>\n",
       "    </tr>\n",
       "  </thead>\n",
       "  <tbody>\n",
       "    <tr>\n",
       "      <th>3380</th>\n",
       "      <td>Battery Park/Tribeca</td>\n",
<<<<<<< HEAD
       "      <td>148 152.00</td>\n",
||||||| merged common ancestors
       "      <td>148152.00</td>\n",
=======
<<<<<<< HEAD
       "      <td>148152.00</td>\n",
=======
       "      <td>148 152.00</td>\n",
>>>>>>> caa443c7ac06ca17abc3ea020e37cf2c27d3c606
>>>>>>> f5025f6b59170c99ce277f827ce6714ad3383ac8
       "    </tr>\n",
       "    <tr>\n",
       "      <th>3381</th>\n",
       "      <td>Greenwich Village</td>\n",
<<<<<<< HEAD
       "      <td>148 152.00</td>\n",
||||||| merged common ancestors
       "      <td>148152.00</td>\n",
=======
<<<<<<< HEAD
       "      <td>148152.00</td>\n",
=======
       "      <td>148 152.00</td>\n",
>>>>>>> caa443c7ac06ca17abc3ea020e37cf2c27d3c606
>>>>>>> f5025f6b59170c99ce277f827ce6714ad3383ac8
       "    </tr>\n",
       "    <tr>\n",
       "      <th>3382</th>\n",
       "      <td>Lower East Side</td>\n",
<<<<<<< HEAD
       "      <td>48 376.00</td>\n",
||||||| merged common ancestors
       "      <td>48376.00</td>\n",
=======
<<<<<<< HEAD
       "      <td>48376.00</td>\n",
=======
       "      <td>48 376.00</td>\n",
>>>>>>> caa443c7ac06ca17abc3ea020e37cf2c27d3c606
>>>>>>> f5025f6b59170c99ce277f827ce6714ad3383ac8
       "    </tr>\n",
       "    <tr>\n",
       "      <th>3383</th>\n",
       "      <td>Chelsea/Clinton</td>\n",
<<<<<<< HEAD
       "      <td>101 080.00</td>\n",
||||||| merged common ancestors
       "      <td>101080.00</td>\n",
=======
<<<<<<< HEAD
       "      <td>101080.00</td>\n",
=======
       "      <td>101 080.00</td>\n",
>>>>>>> caa443c7ac06ca17abc3ea020e37cf2c27d3c606
>>>>>>> f5025f6b59170c99ce277f827ce6714ad3383ac8
       "    </tr>\n",
       "    <tr>\n",
       "      <th>3384</th>\n",
       "      <td>Midtown Business District</td>\n",
<<<<<<< HEAD
       "      <td>101 080.00</td>\n",
||||||| merged common ancestors
       "      <td>101080.00</td>\n",
=======
<<<<<<< HEAD
       "      <td>101080.00</td>\n",
=======
       "      <td>101 080.00</td>\n",
>>>>>>> caa443c7ac06ca17abc3ea020e37cf2c27d3c606
>>>>>>> f5025f6b59170c99ce277f827ce6714ad3383ac8
       "    </tr>\n",
       "  </tbody>\n",
       "</table>\n",
       "</div>"
      ],
      "text/plain": [
       "                        Borough average_household_income\n",
<<<<<<< HEAD
       "3380       Battery Park/Tribeca              148 152.00 \n",
       "3381          Greenwich Village              148 152.00 \n",
       "3382            Lower East Side               48 376.00 \n",
       "3383            Chelsea/Clinton              101 080.00 \n",
       "3384  Midtown Business District              101 080.00 "
||||||| merged common ancestors
       "3380       Battery Park/Tribeca               148152.00 \n",
       "3381          Greenwich Village               148152.00 \n",
       "3382            Lower East Side                48376.00 \n",
       "3383            Chelsea/Clinton               101080.00 \n",
       "3384  Midtown Business District               101080.00 "
=======
<<<<<<< HEAD
       "3380       Battery Park/Tribeca               148152.00 \n",
       "3381          Greenwich Village               148152.00 \n",
       "3382            Lower East Side                48376.00 \n",
       "3383            Chelsea/Clinton               101080.00 \n",
       "3384  Midtown Business District               101080.00 "
>>>>>>> f5025f6b59170c99ce277f827ce6714ad3383ac8
      ]
     },
<<<<<<< HEAD
     "execution_count": 27,
||||||| merged common ancestors
     "execution_count": 18,
=======
     "execution_count": 18,
=======
       "3380       Battery Park/Tribeca              148 152.00 \n",
       "3381          Greenwich Village              148 152.00 \n",
       "3382            Lower East Side               48 376.00 \n",
       "3383            Chelsea/Clinton              101 080.00 \n",
       "3384  Midtown Business District              101 080.00 "
      ]
     },
     "execution_count": 27,
>>>>>>> caa443c7ac06ca17abc3ea020e37cf2c27d3c606
>>>>>>> f5025f6b59170c99ce277f827ce6714ad3383ac8
     "metadata": {},
     "output_type": "execute_result"
    }
   ],
   "source": [
    "spec_chars = [\",\", \"$\"]\n",
    "\n",
    "\n",
    "for char in spec_chars:\n",
    "    borough['average_household_income'] = borough['average_household_income'].str.replace(char,'')\n",
    "\n",
    "borough.head()"
   ]
  },
  {
   "cell_type": "code",
<<<<<<< HEAD
   "execution_count": 28,
||||||| merged common ancestors
   "execution_count": 19,
=======
<<<<<<< HEAD
   "execution_count": 19,
=======
   "execution_count": 28,
>>>>>>> caa443c7ac06ca17abc3ea020e37cf2c27d3c606
>>>>>>> f5025f6b59170c99ce277f827ce6714ad3383ac8
   "metadata": {},
   "outputs": [],
   "source": [
    "borough['average_household_income'] = borough['average_household_income'].str.split().str.join(\"\")"
   ]
  },
  {
   "cell_type": "code",
<<<<<<< HEAD
   "execution_count": 29,
||||||| merged common ancestors
   "execution_count": 20,
=======
<<<<<<< HEAD
   "execution_count": 20,
=======
   "execution_count": 29,
>>>>>>> caa443c7ac06ca17abc3ea020e37cf2c27d3c606
>>>>>>> f5025f6b59170c99ce277f827ce6714ad3383ac8
   "metadata": {},
   "outputs": [
    {
     "data": {
      "text/html": [
       "<div>\n",
       "<style scoped>\n",
       "    .dataframe tbody tr th:only-of-type {\n",
       "        vertical-align: middle;\n",
       "    }\n",
       "\n",
       "    .dataframe tbody tr th {\n",
       "        vertical-align: top;\n",
       "    }\n",
       "\n",
       "    .dataframe thead th {\n",
       "        text-align: right;\n",
       "    }\n",
       "</style>\n",
       "<table border=\"1\" class=\"dataframe\">\n",
       "  <thead>\n",
       "    <tr style=\"text-align: right;\">\n",
       "      <th></th>\n",
       "      <th>Borough</th>\n",
       "      <th>average_household_income</th>\n",
       "    </tr>\n",
       "  </thead>\n",
       "  <tbody>\n",
       "    <tr>\n",
       "      <th>3380</th>\n",
       "      <td>Battery Park/Tribeca</td>\n",
       "      <td>148152.00</td>\n",
       "    </tr>\n",
       "    <tr>\n",
       "      <th>3381</th>\n",
       "      <td>Greenwich Village</td>\n",
       "      <td>148152.00</td>\n",
       "    </tr>\n",
       "    <tr>\n",
       "      <th>3382</th>\n",
       "      <td>Lower East Side</td>\n",
       "      <td>48376.00</td>\n",
       "    </tr>\n",
       "    <tr>\n",
       "      <th>3383</th>\n",
       "      <td>Chelsea/Clinton</td>\n",
       "      <td>101080.00</td>\n",
       "    </tr>\n",
       "    <tr>\n",
       "      <th>3384</th>\n",
       "      <td>Midtown Business District</td>\n",
       "      <td>101080.00</td>\n",
       "    </tr>\n",
       "  </tbody>\n",
       "</table>\n",
       "</div>"
      ],
      "text/plain": [
       "                        Borough average_household_income\n",
       "3380       Battery Park/Tribeca                148152.00\n",
       "3381          Greenwich Village                148152.00\n",
       "3382            Lower East Side                 48376.00\n",
       "3383            Chelsea/Clinton                101080.00\n",
       "3384  Midtown Business District                101080.00"
      ]
     },
<<<<<<< HEAD
     "execution_count": 29,
||||||| merged common ancestors
     "execution_count": 20,
=======
<<<<<<< HEAD
     "execution_count": 20,
=======
     "execution_count": 29,
>>>>>>> caa443c7ac06ca17abc3ea020e37cf2c27d3c606
>>>>>>> f5025f6b59170c99ce277f827ce6714ad3383ac8
     "metadata": {},
     "output_type": "execute_result"
    }
   ],
   "source": [
    "borough.head()"
   ]
  },
  {
   "cell_type": "code",
<<<<<<< HEAD
   "execution_count": null,
||||||| merged common ancestors
   "execution_count": 21,
=======
<<<<<<< HEAD
   "execution_count": 21,
=======
   "execution_count": null,
>>>>>>> caa443c7ac06ca17abc3ea020e37cf2c27d3c606
>>>>>>> f5025f6b59170c99ce277f827ce6714ad3383ac8
   "metadata": {},
   "outputs": [],
   "source": [
    "# median_income_df['Data'] =  median_income_df['Data'].astype(float)\n",
    "# median_income_df"
   ]
  },
  {
   "cell_type": "code",
<<<<<<< HEAD
   "execution_count": 33,
||||||| merged common ancestors
   "execution_count": 22,
=======
<<<<<<< HEAD
   "execution_count": 22,
=======
   "execution_count": 33,
>>>>>>> caa443c7ac06ca17abc3ea020e37cf2c27d3c606
>>>>>>> f5025f6b59170c99ce277f827ce6714ad3383ac8
   "metadata": {},
   "outputs": [],
   "source": [
    "borough['average_household_income'] = borough['average_household_income'].astype(float)"
   ]
  },
  {
   "cell_type": "code",
<<<<<<< HEAD
   "execution_count": 34,
||||||| merged common ancestors
   "execution_count": 23,
=======
<<<<<<< HEAD
   "execution_count": 23,
=======
   "execution_count": 34,
>>>>>>> caa443c7ac06ca17abc3ea020e37cf2c27d3c606
>>>>>>> f5025f6b59170c99ce277f827ce6714ad3383ac8
   "metadata": {},
   "outputs": [
    {
     "data": {
      "text/plain": [
       "Borough                      object\n",
       "average_household_income    float64\n",
       "dtype: object"
      ]
     },
<<<<<<< HEAD
     "execution_count": 34,
||||||| merged common ancestors
     "execution_count": 23,
=======
<<<<<<< HEAD
     "execution_count": 23,
=======
     "execution_count": 34,
>>>>>>> caa443c7ac06ca17abc3ea020e37cf2c27d3c606
>>>>>>> f5025f6b59170c99ce277f827ce6714ad3383ac8
     "metadata": {},
     "output_type": "execute_result"
    }
   ],
   "source": [
    "borough.dtypes"
   ]
  },
  {
   "cell_type": "code",
<<<<<<< HEAD
   "execution_count": 35,
||||||| merged common ancestors
   "execution_count": 24,
=======
<<<<<<< HEAD
   "execution_count": 24,
=======
   "execution_count": 35,
>>>>>>> caa443c7ac06ca17abc3ea020e37cf2c27d3c606
>>>>>>> f5025f6b59170c99ce277f827ce6714ad3383ac8
   "metadata": {},
   "outputs": [
    {
     "data": {
      "text/html": [
       "<div>\n",
       "<style scoped>\n",
       "    .dataframe tbody tr th:only-of-type {\n",
       "        vertical-align: middle;\n",
       "    }\n",
       "\n",
       "    .dataframe tbody tr th {\n",
       "        vertical-align: top;\n",
       "    }\n",
       "\n",
       "    .dataframe thead th {\n",
       "        text-align: right;\n",
       "    }\n",
       "</style>\n",
       "<table border=\"1\" class=\"dataframe\">\n",
       "  <thead>\n",
       "    <tr style=\"text-align: right;\">\n",
       "      <th></th>\n",
       "      <th>Borough</th>\n",
       "      <th>average_household_income</th>\n",
       "    </tr>\n",
       "  </thead>\n",
       "  <tbody>\n",
       "    <tr>\n",
<<<<<<< HEAD
       "      <th>3380</th>\n",
||||||| merged common ancestors
       "      <th>0</th>\n",
=======
<<<<<<< HEAD
       "      <th>0</th>\n",
=======
       "      <th>3380</th>\n",
>>>>>>> caa443c7ac06ca17abc3ea020e37cf2c27d3c606
>>>>>>> f5025f6b59170c99ce277f827ce6714ad3383ac8
       "      <td>Battery Park/Tribeca</td>\n",
       "      <td>148152.0</td>\n",
       "    </tr>\n",
       "    <tr>\n",
<<<<<<< HEAD
       "      <th>3381</th>\n",
||||||| merged common ancestors
       "      <th>1</th>\n",
=======
<<<<<<< HEAD
       "      <th>1</th>\n",
=======
       "      <th>3381</th>\n",
>>>>>>> caa443c7ac06ca17abc3ea020e37cf2c27d3c606
>>>>>>> f5025f6b59170c99ce277f827ce6714ad3383ac8
       "      <td>Greenwich Village</td>\n",
       "      <td>148152.0</td>\n",
       "    </tr>\n",
       "    <tr>\n",
<<<<<<< HEAD
       "      <th>3382</th>\n",
||||||| merged common ancestors
       "      <th>2</th>\n",
=======
<<<<<<< HEAD
       "      <th>2</th>\n",
=======
       "      <th>3382</th>\n",
>>>>>>> caa443c7ac06ca17abc3ea020e37cf2c27d3c606
>>>>>>> f5025f6b59170c99ce277f827ce6714ad3383ac8
       "      <td>Lower East Side</td>\n",
       "      <td>48376.0</td>\n",
       "    </tr>\n",
       "    <tr>\n",
<<<<<<< HEAD
       "      <th>3383</th>\n",
||||||| merged common ancestors
       "      <th>3</th>\n",
=======
<<<<<<< HEAD
       "      <th>3</th>\n",
=======
       "      <th>3383</th>\n",
>>>>>>> caa443c7ac06ca17abc3ea020e37cf2c27d3c606
>>>>>>> f5025f6b59170c99ce277f827ce6714ad3383ac8
       "      <td>Chelsea/Clinton</td>\n",
       "      <td>101080.0</td>\n",
       "    </tr>\n",
       "    <tr>\n",
<<<<<<< HEAD
       "      <th>3384</th>\n",
||||||| merged common ancestors
       "      <th>4</th>\n",
=======
<<<<<<< HEAD
       "      <th>4</th>\n",
=======
       "      <th>3384</th>\n",
>>>>>>> caa443c7ac06ca17abc3ea020e37cf2c27d3c606
>>>>>>> f5025f6b59170c99ce277f827ce6714ad3383ac8
       "      <td>Midtown Business District</td>\n",
       "      <td>101080.0</td>\n",
       "    </tr>\n",
       "    <tr>\n",
       "      <th>...</th>\n",
       "      <td>...</td>\n",
       "      <td>...</td>\n",
       "    </tr>\n",
       "    <tr>\n",
<<<<<<< HEAD
       "      <th>3439</th>\n",
||||||| merged common ancestors
       "      <th>59</th>\n",
=======
<<<<<<< HEAD
       "      <th>59</th>\n",
=======
       "      <th>3439</th>\n",
>>>>>>> caa443c7ac06ca17abc3ea020e37cf2c27d3c606
>>>>>>> f5025f6b59170c99ce277f827ce6714ad3383ac8
       "      <td>Bronx</td>\n",
       "      <td>38467.0</td>\n",
       "    </tr>\n",
       "    <tr>\n",
<<<<<<< HEAD
       "      <th>3440</th>\n",
||||||| merged common ancestors
       "      <th>60</th>\n",
=======
<<<<<<< HEAD
       "      <th>60</th>\n",
=======
       "      <th>3440</th>\n",
>>>>>>> caa443c7ac06ca17abc3ea020e37cf2c27d3c606
>>>>>>> f5025f6b59170c99ce277f827ce6714ad3383ac8
       "      <td>Brooklyn</td>\n",
       "      <td>61220.0</td>\n",
       "    </tr>\n",
       "    <tr>\n",
<<<<<<< HEAD
       "      <th>3441</th>\n",
||||||| merged common ancestors
       "      <th>61</th>\n",
=======
<<<<<<< HEAD
       "      <th>61</th>\n",
=======
       "      <th>3441</th>\n",
>>>>>>> caa443c7ac06ca17abc3ea020e37cf2c27d3c606
>>>>>>> f5025f6b59170c99ce277f827ce6714ad3383ac8
       "      <td>Manhattan</td>\n",
       "      <td>85066.0</td>\n",
       "    </tr>\n",
       "    <tr>\n",
<<<<<<< HEAD
       "      <th>3442</th>\n",
||||||| merged common ancestors
       "      <th>62</th>\n",
=======
<<<<<<< HEAD
       "      <th>62</th>\n",
=======
       "      <th>3442</th>\n",
>>>>>>> caa443c7ac06ca17abc3ea020e37cf2c27d3c606
>>>>>>> f5025f6b59170c99ce277f827ce6714ad3383ac8
       "      <td>Queens</td>\n",
       "      <td>69320.0</td>\n",
       "    </tr>\n",
       "    <tr>\n",
<<<<<<< HEAD
       "      <th>3443</th>\n",
||||||| merged common ancestors
       "      <th>63</th>\n",
=======
<<<<<<< HEAD
       "      <th>63</th>\n",
=======
       "      <th>3443</th>\n",
>>>>>>> caa443c7ac06ca17abc3ea020e37cf2c27d3c606
>>>>>>> f5025f6b59170c99ce277f827ce6714ad3383ac8
       "      <td>Staten Island</td>\n",
       "      <td>82166.0</td>\n",
       "    </tr>\n",
       "  </tbody>\n",
       "</table>\n",
       "<p>64 rows × 2 columns</p>\n",
       "</div>"
      ],
      "text/plain": [
<<<<<<< HEAD
       "                        Borough  average_household_income\n",
       "3380       Battery Park/Tribeca                  148152.0\n",
       "3381          Greenwich Village                  148152.0\n",
       "3382            Lower East Side                   48376.0\n",
       "3383            Chelsea/Clinton                  101080.0\n",
       "3384  Midtown Business District                  101080.0\n",
       "...                         ...                       ...\n",
       "3439                      Bronx                   38467.0\n",
       "3440                   Brooklyn                   61220.0\n",
       "3441                  Manhattan                   85066.0\n",
       "3442                     Queens                   69320.0\n",
       "3443              Staten Island                   82166.0\n",
||||||| merged common ancestors
       "                      Borough  average_household_income\n",
       "0        Battery Park/Tribeca                  148152.0\n",
       "1           Greenwich Village                  148152.0\n",
       "2             Lower East Side                   48376.0\n",
       "3             Chelsea/Clinton                  101080.0\n",
       "4   Midtown Business District                  101080.0\n",
       "..                        ...                       ...\n",
       "59                      Bronx                   38467.0\n",
       "60                   Brooklyn                   61220.0\n",
       "61                  Manhattan                   85066.0\n",
       "62                     Queens                   69320.0\n",
       "63              Staten Island                   82166.0\n",
=======
<<<<<<< HEAD
       "                      Borough  average_household_income\n",
       "0        Battery Park/Tribeca                  148152.0\n",
       "1           Greenwich Village                  148152.0\n",
       "2             Lower East Side                   48376.0\n",
       "3             Chelsea/Clinton                  101080.0\n",
       "4   Midtown Business District                  101080.0\n",
       "..                        ...                       ...\n",
       "59                      Bronx                   38467.0\n",
       "60                   Brooklyn                   61220.0\n",
       "61                  Manhattan                   85066.0\n",
       "62                     Queens                   69320.0\n",
       "63              Staten Island                   82166.0\n",
=======
       "                        Borough  average_household_income\n",
       "3380       Battery Park/Tribeca                  148152.0\n",
       "3381          Greenwich Village                  148152.0\n",
       "3382            Lower East Side                   48376.0\n",
       "3383            Chelsea/Clinton                  101080.0\n",
       "3384  Midtown Business District                  101080.0\n",
       "...                         ...                       ...\n",
       "3439                      Bronx                   38467.0\n",
       "3440                   Brooklyn                   61220.0\n",
       "3441                  Manhattan                   85066.0\n",
       "3442                     Queens                   69320.0\n",
       "3443              Staten Island                   82166.0\n",
>>>>>>> caa443c7ac06ca17abc3ea020e37cf2c27d3c606
>>>>>>> f5025f6b59170c99ce277f827ce6714ad3383ac8
       "\n",
       "[64 rows x 2 columns]"
      ]
     },
<<<<<<< HEAD
     "execution_count": 35,
||||||| merged common ancestors
     "execution_count": 24,
=======
<<<<<<< HEAD
     "execution_count": 24,
=======
     "execution_count": 35,
>>>>>>> caa443c7ac06ca17abc3ea020e37cf2c27d3c606
>>>>>>> f5025f6b59170c99ce277f827ce6714ad3383ac8
     "metadata": {},
     "output_type": "execute_result"
    }
   ],
   "source": [
<<<<<<< HEAD
    "borough.loc "
||||||| merged common ancestors
    "borough.reset_index(inplace = True, drop = True)\n",
    "borough"
=======
<<<<<<< HEAD
    "borough.reset_index(inplace = True, drop = True)\n",
    "borough"
=======
    "borough.loc "
>>>>>>> caa443c7ac06ca17abc3ea020e37cf2c27d3c606
>>>>>>> f5025f6b59170c99ce277f827ce6714ad3383ac8
   ]
  },
  {
   "cell_type": "code",
<<<<<<< HEAD
   "execution_count": null,
||||||| merged common ancestors
   "execution_count": 25,
=======
<<<<<<< HEAD
   "execution_count": 25,
>>>>>>> f5025f6b59170c99ce277f827ce6714ad3383ac8
   "metadata": {},
   "outputs": [],
   "source": [
<<<<<<< HEAD
    "#All I did so far was import the CSVs. I'm trying to merge them by borough. So before that we\n",
    "#need to clean the zip code data to be grouped by borough. Sum it mayeb? idk\n",
    "#Then under location in the median income df at the end of each year is the overall amount for\n",
    "# the boroughs. we need to trim the old data and the data keep only 2018. Then just use the borough\n",
    "#numbers not the neighborhood numbers"
   ]
  },
  {
   "cell_type": "code",
   "execution_count": null,
   "metadata": {},
   "outputs": [],
   "source": [
    "# median_income_df.rename(columns = { \"Data\" : \"Average Household Income\"}, inplace = True)"
   ]
  },
  {
   "cell_type": "code",
   "execution_count": null,
   "metadata": {},
   "outputs": [],
   "source": [
    "\n",
    "df_filtered_year = median_income_df.loc[(median_income_df[\"TimeFrame\"] == 2018)]\n",
    "df_filtered_household = df_filtered_year.loc[(df_filtered_year[\"Household Type\"] == \"All Households\")]\n",
    "df_filtered_household.tail(6)\n",
    "#df_filtered_household.sort_values(by=['Data'], ascending=False )\n",
    "almost_done = df_filtered_household.drop(df_filtered_household.index[0:59])\n",
    "#almost_done.head(6)\n",
    "column = almost_done.drop(almost_done.index[5])\n",
    "#column.head(10)\n",
    "final = column.drop(columns=['Household Type', 'DataFormat', 'Fips'])\n",
    "#final.head()\n",
    "\n",
    "# final_median = final.rename(columns={\"Location\": \"Borough\", \"TimeFrame\": \"Year\", \" Data\": \"Average Household Income\"})\n",
    "# final_median.head()"
   ]
  },
  {
   "cell_type": "code",
   "execution_count": null,
   "metadata": {},
   "outputs": [],
   "source": [
    "final.columns = [\"Borough\", \"Year\", \"average_household_income\"]\n",
    "final"
   ]
  },
  {
   "cell_type": "code",
   "execution_count": null,
   "metadata": {},
   "outputs": [],
   "source": []
  },
  {
   "cell_type": "code",
   "execution_count": null,
   "metadata": {},
   "outputs": [],
   "source": [
    "average_household_income = average_household_income.astype(float)\n",
    "\n"
   ]
  },
  {
   "cell_type": "code",
   "execution_count": null,
   "metadata": {},
   "outputs": [],
   "source": [
    "final"
   ]
  },
  {
   "cell_type": "code",
   "execution_count": null,
   "metadata": {},
   "outputs": [],
   "source": [
    "\n",
    "final['average_household_income'] = pd.to_numeric(final['average_household_income'])"
   ]
  },
  {
   "cell_type": "code",
   "execution_count": null,
   "metadata": {},
   "outputs": [],
   "source": [
    "# final['Average Household Income'] = final['Average Household Income'].astype(float)"
||||||| merged common ancestors
    "final_borough = borough.drop(borough.index[0:59])\n",
    "final_borough"
=======
    "final_borough = borough.drop(borough.index[0:59])\n",
    "final_borough"
=======
   "execution_count": null,
   "metadata": {},
   "outputs": [],
   "source": [
    "#All I did so far was import the CSVs. I'm trying to merge them by borough. So before that we\n",
    "#need to clean the zip code data to be grouped by borough. Sum it mayeb? idk\n",
    "#Then under location in the median income df at the end of each year is the overall amount for\n",
    "# the boroughs. we need to trim the old data and the data keep only 2018. Then just use the borough\n",
    "#numbers not the neighborhood numbers"
   ]
  },
  {
   "cell_type": "code",
   "execution_count": null,
   "metadata": {},
   "outputs": [],
   "source": [
    "# median_income_df.rename(columns = { \"Data\" : \"Average Household Income\"}, inplace = True)"
   ]
  },
  {
   "cell_type": "code",
   "execution_count": null,
   "metadata": {},
   "outputs": [],
   "source": [
    "\n",
    "#df_filtered_year = median_income_df.loc[(median_income_df[\"TimeFrame\"] == 2018)]\n",
    "#df_filtered_household = df_filtered_year.loc[(df_filtered_year[\"Household Type\"] == \"All Households\")]\n",
    "#df_filtered_household.tail(6)\n",
    "#df_filtered_household.sort_values(by=['Data'], ascending=False )\n",
    "#almost_done = df_filtered_household.drop(df_filtered_household.index[0:59])\n",
    "#almost_done.head(6)\n",
    "#column = almost_done.drop(almost_done.index[5])\n",
    "#column.head(10)\n",
    "#final = column.drop(columns=['Household Type', 'DataFormat', 'Fips'])\n",
    "#final.head()\n",
    "\n",
    "# final_median = final.rename(columns={\"Location\": \"Borough\", \"TimeFrame\": \"Year\", \" Data\": \"Average Household Income\"})\n",
    "# final_median.head()"
   ]
  },
  {
   "cell_type": "code",
   "execution_count": null,
   "metadata": {},
   "outputs": [],
   "source": []
  },
  {
   "cell_type": "code",
   "execution_count": null,
   "metadata": {},
   "outputs": [],
   "source": []
  },
  {
   "cell_type": "code",
   "execution_count": null,
   "metadata": {},
   "outputs": [],
   "source": [
    "\n"
   ]
  },
  {
   "cell_type": "code",
   "execution_count": null,
   "metadata": {},
   "outputs": [],
   "source": []
  },
  {
   "cell_type": "code",
   "execution_count": null,
   "metadata": {},
   "outputs": [],
   "source": [
    "\n"
   ]
  },
  {
   "cell_type": "code",
   "execution_count": null,
   "metadata": {},
   "outputs": [],
<<<<<<< HEAD
   "source": []
=======
   "source": [
    "# final['Average Household Income'] = final['Average Household Income'].astype(float)"
<<<<<<< HEAD
=======
>>>>>>> caa443c7ac06ca17abc3ea020e37cf2c27d3c606
>>>>>>> f5025f6b59170c99ce277f827ce6714ad3383ac8
>>>>>>> master
   ]
>>>>>>> master
  },
  {
   "cell_type": "code",
   "execution_count": null,
   "metadata": {},
   "outputs": [],
   "source": []
  }
 ],
 "metadata": {
  "kernelspec": {
   "display_name": "Python 3",
   "language": "python",
   "name": "python3"
  },
  "language_info": {
   "codemirror_mode": {
    "name": "ipython",
    "version": 3
   },
   "file_extension": ".py",
   "mimetype": "text/x-python",
   "name": "python",
   "nbconvert_exporter": "python",
   "pygments_lexer": "ipython3",
   "version": "3.6.10"
  }
 },
 "nbformat": 4,
 "nbformat_minor": 4
}
<<<<<<< HEAD
>>>>>>> master
||||||| merged common ancestors
>>>>>>>>> Temporary merge branch 2
=======
>>>>>>> f5025f6b59170c99ce277f827ce6714ad3383ac8
